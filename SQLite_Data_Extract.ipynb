{
 "cells": [
  {
   "cell_type": "code",
   "execution_count": 187,
   "metadata": {},
   "outputs": [],
   "source": [
    "# Importing dependencies for comunicating with sqlite db\n",
    "import sqlalchemy\n",
    "from sqlalchemy.ext.automap import automap_base\n",
    "from sqlalchemy import create_engine,inspect, func, desc\n",
    "from sqlalchemy.ext.declarative import declarative_base\n",
    "from sqlalchemy.orm import Session\n",
    "import pyodbc\n",
    "import sqlalchemy as sa\n",
    "import urllib\n",
    "import pandas as pd\n",
    "import os"
   ]
  },
  {
   "cell_type": "code",
   "execution_count": 188,
   "metadata": {},
   "outputs": [],
   "source": [
    "# Create engine to connect to Sensors.db\n",
    "engine = create_engine('sqlite:///data/Sensors.db', echo=False)\n",
    "Base = automap_base()"
   ]
  },
  {
   "cell_type": "code",
   "execution_count": 189,
   "metadata": {},
   "outputs": [
    {
     "data": {
      "text/plain": [
       "['BME_DATA']"
      ]
     },
     "execution_count": 189,
     "metadata": {},
     "output_type": "execute_result"
    }
   ],
   "source": [
    "# Using Base.prepare and Base.classes we will reflect DB into ORM classes\n",
    "Base.prepare(engine, reflect=True)\n",
    "Base.classes.keys()"
   ]
  },
  {
   "cell_type": "code",
   "execution_count": 190,
   "metadata": {},
   "outputs": [
    {
     "data": {
      "text/plain": [
       "['BME_DATA', 'FORECAST']"
      ]
     },
     "execution_count": 190,
     "metadata": {},
     "output_type": "execute_result"
    }
   ],
   "source": [
    "# Explore database with inspector\n",
    "inspector = inspect(engine)\n",
    "inspector.get_table_names()"
   ]
  },
  {
   "cell_type": "code",
   "execution_count": 191,
   "metadata": {},
   "outputs": [],
   "source": [
    "# Save the refference from table BME_DATA\n",
    "Rambo = Base.classes.BME_DATA"
   ]
  },
  {
   "cell_type": "code",
   "execution_count": 192,
   "metadata": {},
   "outputs": [],
   "source": [
    "# Create db sesion object\n",
    "session = Session(engine)"
   ]
  },
  {
   "cell_type": "code",
   "execution_count": 193,
   "metadata": {},
   "outputs": [],
   "source": [
    "# Creating the query to identify last date to identify end ponint of the year\n",
    "df = pd.read_sql(\"SELECT * FROM BME_DATA\", engine)"
   ]
  },
  {
   "cell_type": "code",
   "execution_count": 194,
   "metadata": {},
   "outputs": [],
   "source": [
    "df['TIME_STAMP'] = pd.to_datetime(df['TIME_STAMP'])"
   ]
  },
  {
   "cell_type": "code",
   "execution_count": 195,
   "metadata": {},
   "outputs": [],
   "source": [
    "# using funciton to convert string into date time\n",
    "from datetime import datetime, timedelta\n",
    "\n",
    "def hour_rounder(t):\n",
    "    # Rounds to nearest hour by adding a timedelta hour if minute >= 30\n",
    "    return (t.replace(second=0, microsecond=0, minute=0, hour=t.hour)\n",
    "               +timedelta(hours=t.minute//30))\n"
   ]
  },
  {
   "cell_type": "code",
   "execution_count": 196,
   "metadata": {},
   "outputs": [],
   "source": [
    "# testing on  single value\n",
    "test = hour_rounder(df['TIME_STAMP'][0])"
   ]
  },
  {
   "cell_type": "code",
   "execution_count": 197,
   "metadata": {},
   "outputs": [],
   "source": [
    "# converting fro all values in entire column\n",
    "df['TIME_STAMP'] = df['TIME_STAMP'].apply(hour_rounder)"
   ]
  },
  {
   "cell_type": "code",
   "execution_count": 198,
   "metadata": {},
   "outputs": [],
   "source": [
    "# converting temperature from C to f\n",
    "df['TEMPERATURE'] = round((df['TEMPERATURE']* 9/5) + 32)\n"
   ]
  },
  {
   "cell_type": "code",
   "execution_count": 202,
   "metadata": {},
   "outputs": [],
   "source": [
    "# create new tale and drop Id\n",
    "df = df[[\"TIME_STAMP\", \"TEMPERATURE\"]]"
   ]
  },
  {
   "cell_type": "code",
   "execution_count": 203,
   "metadata": {},
   "outputs": [
    {
     "data": {
      "text/html": [
       "<div>\n",
       "<style scoped>\n",
       "    .dataframe tbody tr th:only-of-type {\n",
       "        vertical-align: middle;\n",
       "    }\n",
       "\n",
       "    .dataframe tbody tr th {\n",
       "        vertical-align: top;\n",
       "    }\n",
       "\n",
       "    .dataframe thead th {\n",
       "        text-align: right;\n",
       "    }\n",
       "</style>\n",
       "<table border=\"1\" class=\"dataframe\">\n",
       "  <thead>\n",
       "    <tr style=\"text-align: right;\">\n",
       "      <th></th>\n",
       "      <th>TIME_STAMP</th>\n",
       "      <th>TEMPERATURE</th>\n",
       "    </tr>\n",
       "  </thead>\n",
       "  <tbody>\n",
       "    <tr>\n",
       "      <th>0</th>\n",
       "      <td>2019-04-09 23:00:00</td>\n",
       "      <td>167.0</td>\n",
       "    </tr>\n",
       "    <tr>\n",
       "      <th>1</th>\n",
       "      <td>2019-04-09 23:00:00</td>\n",
       "      <td>68.0</td>\n",
       "    </tr>\n",
       "    <tr>\n",
       "      <th>2</th>\n",
       "      <td>2019-04-10 00:00:00</td>\n",
       "      <td>68.0</td>\n",
       "    </tr>\n",
       "    <tr>\n",
       "      <th>3</th>\n",
       "      <td>2019-04-10 01:00:00</td>\n",
       "      <td>67.0</td>\n",
       "    </tr>\n",
       "    <tr>\n",
       "      <th>4</th>\n",
       "      <td>2019-04-10 02:00:00</td>\n",
       "      <td>67.0</td>\n",
       "    </tr>\n",
       "  </tbody>\n",
       "</table>\n",
       "</div>"
      ],
      "text/plain": [
       "           TIME_STAMP  TEMPERATURE\n",
       "0 2019-04-09 23:00:00        167.0\n",
       "1 2019-04-09 23:00:00         68.0\n",
       "2 2019-04-10 00:00:00         68.0\n",
       "3 2019-04-10 01:00:00         67.0\n",
       "4 2019-04-10 02:00:00         67.0"
      ]
     },
     "execution_count": 203,
     "metadata": {},
     "output_type": "execute_result"
    }
   ],
   "source": [
    "df.head()"
   ]
  },
  {
   "cell_type": "code",
   "execution_count": 204,
   "metadata": {},
   "outputs": [
    {
     "data": {
      "text/html": [
       "<div>\n",
       "<style scoped>\n",
       "    .dataframe tbody tr th:only-of-type {\n",
       "        vertical-align: middle;\n",
       "    }\n",
       "\n",
       "    .dataframe tbody tr th {\n",
       "        vertical-align: top;\n",
       "    }\n",
       "\n",
       "    .dataframe thead th {\n",
       "        text-align: right;\n",
       "    }\n",
       "</style>\n",
       "<table border=\"1\" class=\"dataframe\">\n",
       "  <thead>\n",
       "    <tr style=\"text-align: right;\">\n",
       "      <th></th>\n",
       "      <th>TIME_STAMP</th>\n",
       "      <th>TEMPERATURE</th>\n",
       "    </tr>\n",
       "  </thead>\n",
       "  <tbody>\n",
       "    <tr>\n",
       "      <th>0</th>\n",
       "      <td>2019-04-09 23:00:00</td>\n",
       "      <td>167.0</td>\n",
       "    </tr>\n",
       "    <tr>\n",
       "      <th>1</th>\n",
       "      <td>2019-04-09 23:00:00</td>\n",
       "      <td>68.0</td>\n",
       "    </tr>\n",
       "    <tr>\n",
       "      <th>2</th>\n",
       "      <td>2019-04-10 00:00:00</td>\n",
       "      <td>68.0</td>\n",
       "    </tr>\n",
       "    <tr>\n",
       "      <th>3</th>\n",
       "      <td>2019-04-10 01:00:00</td>\n",
       "      <td>67.0</td>\n",
       "    </tr>\n",
       "    <tr>\n",
       "      <th>4</th>\n",
       "      <td>2019-04-10 02:00:00</td>\n",
       "      <td>67.0</td>\n",
       "    </tr>\n",
       "  </tbody>\n",
       "</table>\n",
       "</div>"
      ],
      "text/plain": [
       "           TIME_STAMP  TEMPERATURE\n",
       "0 2019-04-09 23:00:00        167.0\n",
       "1 2019-04-09 23:00:00         68.0\n",
       "2 2019-04-10 00:00:00         68.0\n",
       "3 2019-04-10 01:00:00         67.0\n",
       "4 2019-04-10 02:00:00         67.0"
      ]
     },
     "execution_count": 204,
     "metadata": {},
     "output_type": "execute_result"
    }
   ],
   "source": [
    "# Export to csv\n",
    "df.to_csv(\"Rambo.csv\", sep=',', encoding='utf-8')\n",
    "df.head()"
   ]
  },
  {
   "cell_type": "code",
   "execution_count": 205,
   "metadata": {},
   "outputs": [
    {
     "data": {
      "text/html": [
       "<div>\n",
       "<style scoped>\n",
       "    .dataframe tbody tr th:only-of-type {\n",
       "        vertical-align: middle;\n",
       "    }\n",
       "\n",
       "    .dataframe tbody tr th {\n",
       "        vertical-align: top;\n",
       "    }\n",
       "\n",
       "    .dataframe thead th {\n",
       "        text-align: right;\n",
       "    }\n",
       "</style>\n",
       "<table border=\"1\" class=\"dataframe\">\n",
       "  <thead>\n",
       "    <tr style=\"text-align: right;\">\n",
       "      <th></th>\n",
       "      <th>TIME_STAMP</th>\n",
       "      <th>TEMPERATURE</th>\n",
       "    </tr>\n",
       "  </thead>\n",
       "  <tbody>\n",
       "    <tr>\n",
       "      <th>0</th>\n",
       "      <td>2019-04-09 23:00</td>\n",
       "      <td>167.0</td>\n",
       "    </tr>\n",
       "    <tr>\n",
       "      <th>1</th>\n",
       "      <td>2019-04-09 23:00</td>\n",
       "      <td>68.0</td>\n",
       "    </tr>\n",
       "    <tr>\n",
       "      <th>2</th>\n",
       "      <td>2019-04-10 00:00</td>\n",
       "      <td>68.0</td>\n",
       "    </tr>\n",
       "    <tr>\n",
       "      <th>3</th>\n",
       "      <td>2019-04-10 01:00</td>\n",
       "      <td>67.0</td>\n",
       "    </tr>\n",
       "    <tr>\n",
       "      <th>4</th>\n",
       "      <td>2019-04-10 02:00</td>\n",
       "      <td>67.0</td>\n",
       "    </tr>\n",
       "  </tbody>\n",
       "</table>\n",
       "</div>"
      ],
      "text/plain": [
       "         TIME_STAMP  TEMPERATURE\n",
       "0  2019-04-09 23:00        167.0\n",
       "1  2019-04-09 23:00         68.0\n",
       "2  2019-04-10 00:00         68.0\n",
       "3  2019-04-10 01:00         67.0\n",
       "4  2019-04-10 02:00         67.0"
      ]
     },
     "execution_count": 205,
     "metadata": {},
     "output_type": "execute_result"
    }
   ],
   "source": [
    "# Convert back to string for Json \n",
    "df['TIME_STAMP'] = df['TIME_STAMP'].dt.strftime('%Y-%m-%d %H:%M')\n",
    "df.head()"
   ]
  },
  {
   "cell_type": "code",
   "execution_count": 206,
   "metadata": {},
   "outputs": [],
   "source": [
    "df_json_ready = df.to_json(orient='records')"
   ]
  },
  {
   "cell_type": "code",
   "execution_count": 207,
   "metadata": {},
   "outputs": [
    {
     "data": {
      "text/plain": [
       "'[{\"TIME_STAMP\":\"2019-04-09 23:00\",\"TEMPERATURE\":167.0},{\"TIME_STAMP\":\"2019-04-09 23:00\",\"TEMPERATURE\":68.0},{\"TIME_STAMP\":\"2019-04-10 00:00\",\"TEMPERATURE\":68.0},{\"TIME_STAMP\":\"2019-04-10 01:00\",\"TEMPERATURE\":67.0},{\"TIME_STAMP\":\"2019-04-10 02:00\",\"TEMPERATURE\":67.0},{\"TIME_STAMP\":\"2019-04-10 03:00\",\"TEMPERATURE\":66.0},{\"TIME_STAMP\":\"2019-04-10 04:00\",\"TEMPERATURE\":65.0},{\"TIME_STAMP\":\"2019-04-10 05:00\",\"TEMPERATURE\":64.0},{\"TIME_STAMP\":\"2019-04-10 06:00\",\"TEMPERATURE\":63.0},{\"TIME_STAMP\":\"2019-04-10 07:00\",\"TEMPERATURE\":62.0},{\"TIME_STAMP\":\"2019-04-10 08:00\",\"TEMPERATURE\":61.0},{\"TIME_STAMP\":\"2019-04-10 09:00\",\"TEMPERATURE\":62.0},{\"TIME_STAMP\":\"2019-04-10 10:00\",\"TEMPERATURE\":63.0},{\"TIME_STAMP\":\"2019-04-10 11:00\",\"TEMPERATURE\":66.0},{\"TIME_STAMP\":\"2019-04-10 12:00\",\"TEMPERATURE\":69.0},{\"TIME_STAMP\":\"2019-04-10 13:00\",\"TEMPERATURE\":71.0},{\"TIME_STAMP\":\"2019-04-10 14:00\",\"TEMPERATURE\":73.0},{\"TIME_STAMP\":\"2019-04-10 15:00\",\"TEMPERATURE\":75.0},{\"TIME_STAMP\":\"2019-04-10 16:00\",\"TEMPERATURE\":77.0},{\"TIME_STAMP\":\"2019-04-10 17:00\",\"TEMPERATURE\":79.0},{\"TIME_STAMP\":\"2019-04-10 18:00\",\"TEMPERATURE\":80.0},{\"TIME_STAMP\":\"2019-04-10 19:00\",\"TEMPERATURE\":82.0},{\"TIME_STAMP\":\"2019-04-10 20:00\",\"TEMPERATURE\":82.0},{\"TIME_STAMP\":\"2019-04-10 21:00\",\"TEMPERATURE\":81.0},{\"TIME_STAMP\":\"2019-04-10 22:00\",\"TEMPERATURE\":79.0},{\"TIME_STAMP\":\"2019-04-10 23:00\",\"TEMPERATURE\":77.0},{\"TIME_STAMP\":\"2019-04-11 00:00\",\"TEMPERATURE\":75.0},{\"TIME_STAMP\":\"2019-04-11 01:00\",\"TEMPERATURE\":73.0},{\"TIME_STAMP\":\"2019-04-11 02:00\",\"TEMPERATURE\":71.0},{\"TIME_STAMP\":\"2019-04-11 03:00\",\"TEMPERATURE\":70.0},{\"TIME_STAMP\":\"2019-04-11 04:00\",\"TEMPERATURE\":68.0},{\"TIME_STAMP\":\"2019-04-11 05:00\",\"TEMPERATURE\":67.0},{\"TIME_STAMP\":\"2019-04-11 06:00\",\"TEMPERATURE\":67.0},{\"TIME_STAMP\":\"2019-04-11 07:00\",\"TEMPERATURE\":67.0},{\"TIME_STAMP\":\"2019-04-11 08:00\",\"TEMPERATURE\":67.0},{\"TIME_STAMP\":\"2019-04-11 09:00\",\"TEMPERATURE\":67.0},{\"TIME_STAMP\":\"2019-04-11 10:00\",\"TEMPERATURE\":69.0},{\"TIME_STAMP\":\"2019-04-11 11:00\",\"TEMPERATURE\":70.0},{\"TIME_STAMP\":\"2019-04-11 12:00\",\"TEMPERATURE\":72.0},{\"TIME_STAMP\":\"2019-04-11 13:00\",\"TEMPERATURE\":74.0},{\"TIME_STAMP\":\"2019-04-11 14:00\",\"TEMPERATURE\":75.0},{\"TIME_STAMP\":\"2019-04-11 15:00\",\"TEMPERATURE\":77.0},{\"TIME_STAMP\":\"2019-04-11 16:00\",\"TEMPERATURE\":79.0},{\"TIME_STAMP\":\"2019-04-11 17:00\",\"TEMPERATURE\":80.0},{\"TIME_STAMP\":\"2019-04-11 18:00\",\"TEMPERATURE\":80.0},{\"TIME_STAMP\":\"2019-04-11 19:00\",\"TEMPERATURE\":81.0},{\"TIME_STAMP\":\"2019-04-11 20:00\",\"TEMPERATURE\":81.0},{\"TIME_STAMP\":\"2019-04-11 21:00\",\"TEMPERATURE\":81.0},{\"TIME_STAMP\":\"2019-04-11 21:00\",\"TEMPERATURE\":80.0},{\"TIME_STAMP\":\"2019-04-11 22:00\",\"TEMPERATURE\":80.0},{\"TIME_STAMP\":\"2019-04-11 23:00\",\"TEMPERATURE\":79.0},{\"TIME_STAMP\":\"2019-04-12 00:00\",\"TEMPERATURE\":78.0},{\"TIME_STAMP\":\"2019-04-12 01:00\",\"TEMPERATURE\":78.0},{\"TIME_STAMP\":\"2019-04-12 02:00\",\"TEMPERATURE\":76.0},{\"TIME_STAMP\":\"2019-04-12 03:00\",\"TEMPERATURE\":76.0},{\"TIME_STAMP\":\"2019-04-12 04:00\",\"TEMPERATURE\":75.0},{\"TIME_STAMP\":\"2019-04-12 05:00\",\"TEMPERATURE\":75.0},{\"TIME_STAMP\":\"2019-04-12 06:00\",\"TEMPERATURE\":74.0},{\"TIME_STAMP\":\"2019-04-12 07:00\",\"TEMPERATURE\":74.0},{\"TIME_STAMP\":\"2019-04-12 08:00\",\"TEMPERATURE\":73.0},{\"TIME_STAMP\":\"2019-04-12 09:00\",\"TEMPERATURE\":73.0},{\"TIME_STAMP\":\"2019-04-12 10:00\",\"TEMPERATURE\":73.0},{\"TIME_STAMP\":\"2019-04-12 11:00\",\"TEMPERATURE\":73.0},{\"TIME_STAMP\":\"2019-04-12 12:00\",\"TEMPERATURE\":74.0},{\"TIME_STAMP\":\"2019-04-12 13:00\",\"TEMPERATURE\":75.0},{\"TIME_STAMP\":\"2019-04-12 14:00\",\"TEMPERATURE\":76.0},{\"TIME_STAMP\":\"2019-04-12 15:00\",\"TEMPERATURE\":77.0},{\"TIME_STAMP\":\"2019-04-12 16:00\",\"TEMPERATURE\":78.0},{\"TIME_STAMP\":\"2019-04-12 17:00\",\"TEMPERATURE\":79.0},{\"TIME_STAMP\":\"2019-04-12 18:00\",\"TEMPERATURE\":79.0},{\"TIME_STAMP\":\"2019-04-12 19:00\",\"TEMPERATURE\":79.0},{\"TIME_STAMP\":\"2019-04-12 20:00\",\"TEMPERATURE\":79.0},{\"TIME_STAMP\":\"2019-04-12 21:00\",\"TEMPERATURE\":78.0},{\"TIME_STAMP\":\"2019-04-12 22:00\",\"TEMPERATURE\":76.0},{\"TIME_STAMP\":\"2019-04-12 23:00\",\"TEMPERATURE\":75.0},{\"TIME_STAMP\":\"2019-04-13 00:00\",\"TEMPERATURE\":74.0},{\"TIME_STAMP\":\"2019-04-13 01:00\",\"TEMPERATURE\":72.0},{\"TIME_STAMP\":\"2019-04-13 02:00\",\"TEMPERATURE\":71.0},{\"TIME_STAMP\":\"2019-04-13 03:00\",\"TEMPERATURE\":70.0},{\"TIME_STAMP\":\"2019-04-13 04:00\",\"TEMPERATURE\":69.0},{\"TIME_STAMP\":\"2019-04-13 05:00\",\"TEMPERATURE\":68.0},{\"TIME_STAMP\":\"2019-04-13 06:00\",\"TEMPERATURE\":68.0},{\"TIME_STAMP\":\"2019-04-13 07:00\",\"TEMPERATURE\":67.0},{\"TIME_STAMP\":\"2019-04-13 08:00\",\"TEMPERATURE\":67.0},{\"TIME_STAMP\":\"2019-04-13 09:00\",\"TEMPERATURE\":67.0}]'"
      ]
     },
     "execution_count": 207,
     "metadata": {},
     "output_type": "execute_result"
    }
   ],
   "source": [
    "df_json_ready"
   ]
  },
  {
   "cell_type": "code",
   "execution_count": 208,
   "metadata": {},
   "outputs": [],
   "source": [
    "df.to_json(r'Rambo.json')"
   ]
  },
  {
   "cell_type": "code",
   "execution_count": null,
   "metadata": {},
   "outputs": [],
   "source": []
  },
  {
   "cell_type": "code",
   "execution_count": null,
   "metadata": {},
   "outputs": [],
   "source": []
  },
  {
   "cell_type": "code",
   "execution_count": null,
   "metadata": {},
   "outputs": [],
   "source": []
  },
  {
   "cell_type": "code",
   "execution_count": null,
   "metadata": {},
   "outputs": [],
   "source": []
  }
 ],
 "metadata": {
  "kernelspec": {
   "display_name": "Python 3",
   "language": "python",
   "name": "python3"
  },
  "language_info": {
   "codemirror_mode": {
    "name": "ipython",
    "version": 3
   },
   "file_extension": ".py",
   "mimetype": "text/x-python",
   "name": "python",
   "nbconvert_exporter": "python",
   "pygments_lexer": "ipython3",
   "version": "3.7.1"
  }
 },
 "nbformat": 4,
 "nbformat_minor": 2
}
