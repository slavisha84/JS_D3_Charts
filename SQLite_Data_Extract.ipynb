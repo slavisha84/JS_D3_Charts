{
 "cells": [
  {
   "cell_type": "code",
   "execution_count": 110,
   "metadata": {},
   "outputs": [],
   "source": [
    "# Importing dependencies for comunicating with sqlite db\n",
    "import sqlalchemy\n",
    "from sqlalchemy.ext.automap import automap_base\n",
    "from sqlalchemy import create_engine,inspect, func, desc\n",
    "from sqlalchemy.ext.declarative import declarative_base\n",
    "from sqlalchemy.orm import Session\n",
    "import pyodbc\n",
    "import sqlalchemy as sa\n",
    "import urllib\n",
    "import pandas as pd\n",
    "import os"
   ]
  },
  {
   "cell_type": "code",
   "execution_count": 111,
   "metadata": {},
   "outputs": [],
   "source": [
    "# Create engine to connect to Sensors.db\n",
    "engine = create_engine('sqlite:///data/Sensors.db', echo=False)\n",
    "Base = automap_base()"
   ]
  },
  {
   "cell_type": "code",
   "execution_count": 112,
   "metadata": {},
   "outputs": [
    {
     "data": {
      "text/plain": [
       "['BME_DATA']"
      ]
     },
     "execution_count": 112,
     "metadata": {},
     "output_type": "execute_result"
    }
   ],
   "source": [
    "# Using Base.prepare and Base.classes we will reflect DB into ORM classes\n",
    "Base.prepare(engine, reflect=True)\n",
    "Base.classes.keys()"
   ]
  },
  {
   "cell_type": "code",
   "execution_count": 113,
   "metadata": {},
   "outputs": [
    {
     "data": {
      "text/plain": [
       "['BME_DATA']"
      ]
     },
     "execution_count": 113,
     "metadata": {},
     "output_type": "execute_result"
    }
   ],
   "source": [
    "# Explore database with inspector\n",
    "inspector = inspect(engine)\n",
    "inspector.get_table_names()"
   ]
  },
  {
   "cell_type": "code",
   "execution_count": 114,
   "metadata": {},
   "outputs": [],
   "source": [
    "# Save the refference from table BME_DATA\n",
    "Rambo = Base.classes.BME_DATA"
   ]
  },
  {
   "cell_type": "code",
   "execution_count": 115,
   "metadata": {},
   "outputs": [],
   "source": [
    "# Create db sesion object\n",
    "session = Session(engine)"
   ]
  },
  {
   "cell_type": "code",
   "execution_count": 116,
   "metadata": {},
   "outputs": [],
   "source": [
    "# Creating the query to identify last date to identify end ponint of the year\n",
    "df = pd.read_sql(\"SELECT * FROM BME_DATA\", engine)"
   ]
  },
  {
   "cell_type": "code",
   "execution_count": 117,
   "metadata": {},
   "outputs": [],
   "source": [
    "df['TIME_STAMP'] = pd.to_datetime(df['TIME_STAMP'])"
   ]
  },
  {
   "cell_type": "code",
   "execution_count": 118,
   "metadata": {},
   "outputs": [],
   "source": [
    "# using funciton to convert string into date time\n",
    "from datetime import datetime, timedelta\n",
    "\n",
    "def hour_rounder(t):\n",
    "    # Rounds to nearest hour by adding a timedelta hour if minute >= 30\n",
    "    return (t.replace(second=0, microsecond=0, minute=0, hour=t.hour)\n",
    "               +timedelta(hours=t.minute//30))\n"
   ]
  },
  {
   "cell_type": "code",
   "execution_count": 119,
   "metadata": {},
   "outputs": [],
   "source": [
    "# testing on  single value\n",
    "test = hour_rounder(df['TIME_STAMP'][0])"
   ]
  },
  {
   "cell_type": "code",
   "execution_count": 120,
   "metadata": {},
   "outputs": [],
   "source": [
    "# converting fro all values in entire column\n",
    "df['TIME_STAMP'] = df['TIME_STAMP'].apply(hour_rounder)"
   ]
  },
  {
   "cell_type": "code",
   "execution_count": 121,
   "metadata": {},
   "outputs": [],
   "source": [
    "# converting temperature from C to f\n",
    "df['TEMPERATURE'] = round((df['TEMPERATURE']* 9/5) + 32)\n"
   ]
  },
  {
   "cell_type": "code",
   "execution_count": 122,
   "metadata": {},
   "outputs": [],
   "source": [
    "# create new tale and drop Id\n",
    "df = df[[\"TIME_STAMP\", \"TEMPERATURE\"]]"
   ]
  },
  {
   "cell_type": "code",
   "execution_count": 123,
   "metadata": {},
   "outputs": [
    {
     "data": {
      "text/html": [
       "<div>\n",
       "<style scoped>\n",
       "    .dataframe tbody tr th:only-of-type {\n",
       "        vertical-align: middle;\n",
       "    }\n",
       "\n",
       "    .dataframe tbody tr th {\n",
       "        vertical-align: top;\n",
       "    }\n",
       "\n",
       "    .dataframe thead th {\n",
       "        text-align: right;\n",
       "    }\n",
       "</style>\n",
       "<table border=\"1\" class=\"dataframe\">\n",
       "  <thead>\n",
       "    <tr style=\"text-align: right;\">\n",
       "      <th></th>\n",
       "      <th>TIME_STAMP</th>\n",
       "      <th>TEMPERATURE</th>\n",
       "    </tr>\n",
       "  </thead>\n",
       "  <tbody>\n",
       "    <tr>\n",
       "      <th>0</th>\n",
       "      <td>2019-04-09 23:00:00</td>\n",
       "      <td>167.0</td>\n",
       "    </tr>\n",
       "    <tr>\n",
       "      <th>1</th>\n",
       "      <td>2019-04-09 23:00:00</td>\n",
       "      <td>68.0</td>\n",
       "    </tr>\n",
       "    <tr>\n",
       "      <th>2</th>\n",
       "      <td>2019-04-10 00:00:00</td>\n",
       "      <td>68.0</td>\n",
       "    </tr>\n",
       "    <tr>\n",
       "      <th>3</th>\n",
       "      <td>2019-04-10 01:00:00</td>\n",
       "      <td>67.0</td>\n",
       "    </tr>\n",
       "    <tr>\n",
       "      <th>4</th>\n",
       "      <td>2019-04-10 02:00:00</td>\n",
       "      <td>67.0</td>\n",
       "    </tr>\n",
       "  </tbody>\n",
       "</table>\n",
       "</div>"
      ],
      "text/plain": [
       "           TIME_STAMP  TEMPERATURE\n",
       "0 2019-04-09 23:00:00        167.0\n",
       "1 2019-04-09 23:00:00         68.0\n",
       "2 2019-04-10 00:00:00         68.0\n",
       "3 2019-04-10 01:00:00         67.0\n",
       "4 2019-04-10 02:00:00         67.0"
      ]
     },
     "execution_count": 123,
     "metadata": {},
     "output_type": "execute_result"
    }
   ],
   "source": [
    "df.head()"
   ]
  },
  {
   "cell_type": "code",
   "execution_count": 124,
   "metadata": {},
   "outputs": [
    {
     "data": {
      "text/html": [
       "<div>\n",
       "<style scoped>\n",
       "    .dataframe tbody tr th:only-of-type {\n",
       "        vertical-align: middle;\n",
       "    }\n",
       "\n",
       "    .dataframe tbody tr th {\n",
       "        vertical-align: top;\n",
       "    }\n",
       "\n",
       "    .dataframe thead th {\n",
       "        text-align: right;\n",
       "    }\n",
       "</style>\n",
       "<table border=\"1\" class=\"dataframe\">\n",
       "  <thead>\n",
       "    <tr style=\"text-align: right;\">\n",
       "      <th></th>\n",
       "      <th>TIME_STAMP</th>\n",
       "      <th>TEMPERATURE</th>\n",
       "    </tr>\n",
       "  </thead>\n",
       "  <tbody>\n",
       "    <tr>\n",
       "      <th>1</th>\n",
       "      <td>2019-04-09 23:00:00</td>\n",
       "      <td>68.0</td>\n",
       "    </tr>\n",
       "    <tr>\n",
       "      <th>2</th>\n",
       "      <td>2019-04-10 00:00:00</td>\n",
       "      <td>68.0</td>\n",
       "    </tr>\n",
       "    <tr>\n",
       "      <th>3</th>\n",
       "      <td>2019-04-10 01:00:00</td>\n",
       "      <td>67.0</td>\n",
       "    </tr>\n",
       "    <tr>\n",
       "      <th>4</th>\n",
       "      <td>2019-04-10 02:00:00</td>\n",
       "      <td>67.0</td>\n",
       "    </tr>\n",
       "    <tr>\n",
       "      <th>5</th>\n",
       "      <td>2019-04-10 03:00:00</td>\n",
       "      <td>66.0</td>\n",
       "    </tr>\n",
       "  </tbody>\n",
       "</table>\n",
       "</div>"
      ],
      "text/plain": [
       "           TIME_STAMP  TEMPERATURE\n",
       "1 2019-04-09 23:00:00         68.0\n",
       "2 2019-04-10 00:00:00         68.0\n",
       "3 2019-04-10 01:00:00         67.0\n",
       "4 2019-04-10 02:00:00         67.0\n",
       "5 2019-04-10 03:00:00         66.0"
      ]
     },
     "execution_count": 124,
     "metadata": {},
     "output_type": "execute_result"
    }
   ],
   "source": [
    "# Deleting the wrong input at the first row\n",
    "df = df.iloc[1:]\n",
    "df.head()"
   ]
  },
  {
   "cell_type": "code",
   "execution_count": 125,
   "metadata": {},
   "outputs": [
    {
     "data": {
      "text/html": [
       "<div>\n",
       "<style scoped>\n",
       "    .dataframe tbody tr th:only-of-type {\n",
       "        vertical-align: middle;\n",
       "    }\n",
       "\n",
       "    .dataframe tbody tr th {\n",
       "        vertical-align: top;\n",
       "    }\n",
       "\n",
       "    .dataframe thead th {\n",
       "        text-align: right;\n",
       "    }\n",
       "</style>\n",
       "<table border=\"1\" class=\"dataframe\">\n",
       "  <thead>\n",
       "    <tr style=\"text-align: right;\">\n",
       "      <th></th>\n",
       "      <th>City</th>\n",
       "      <th>Hour</th>\n",
       "      <th>F_Temp</th>\n",
       "      <th>A_Temp</th>\n",
       "    </tr>\n",
       "  </thead>\n",
       "  <tbody>\n",
       "    <tr>\n",
       "      <th>0</th>\n",
       "      <td>Boston</td>\n",
       "      <td>4/11/19 3:00</td>\n",
       "      <td>36.61</td>\n",
       "      <td>36.28</td>\n",
       "    </tr>\n",
       "    <tr>\n",
       "      <th>1</th>\n",
       "      <td>Boston</td>\n",
       "      <td>4/11/19 4:00</td>\n",
       "      <td>35.21</td>\n",
       "      <td>35.48</td>\n",
       "    </tr>\n",
       "    <tr>\n",
       "      <th>2</th>\n",
       "      <td>Boston</td>\n",
       "      <td>4/11/19 5:00</td>\n",
       "      <td>33.81</td>\n",
       "      <td>34.90</td>\n",
       "    </tr>\n",
       "    <tr>\n",
       "      <th>3</th>\n",
       "      <td>Boston</td>\n",
       "      <td>4/11/19 6:00</td>\n",
       "      <td>32.91</td>\n",
       "      <td>34.85</td>\n",
       "    </tr>\n",
       "    <tr>\n",
       "      <th>4</th>\n",
       "      <td>Boston</td>\n",
       "      <td>4/11/19 7:00</td>\n",
       "      <td>33.05</td>\n",
       "      <td>34.46</td>\n",
       "    </tr>\n",
       "  </tbody>\n",
       "</table>\n",
       "</div>"
      ],
      "text/plain": [
       "     City          Hour  F_Temp  A_Temp\n",
       "0  Boston  4/11/19 3:00   36.61   36.28\n",
       "1  Boston  4/11/19 4:00   35.21   35.48\n",
       "2  Boston  4/11/19 5:00   33.81   34.90\n",
       "3  Boston  4/11/19 6:00   32.91   34.85\n",
       "4  Boston  4/11/19 7:00   33.05   34.46"
      ]
     },
     "execution_count": 125,
     "metadata": {},
     "output_type": "execute_result"
    }
   ],
   "source": [
    "# Importing API data\n",
    "API_df = pd.read_csv(\"data/API.csv\")\n",
    "API_df.head()"
   ]
  },
  {
   "cell_type": "code",
   "execution_count": null,
   "metadata": {},
   "outputs": [],
   "source": [
    "# Merging API and RAMBO dataframes On date\n",
    "#master_df = pd.merge(fifa_subset, gdp_subset, on = \"Nationality\", how = \"left\", suffixes=(\"_\",\"\"))"
   ]
  },
  {
   "cell_type": "code",
   "execution_count": 100,
   "metadata": {},
   "outputs": [
    {
     "data": {
      "text/html": [
       "<div>\n",
       "<style scoped>\n",
       "    .dataframe tbody tr th:only-of-type {\n",
       "        vertical-align: middle;\n",
       "    }\n",
       "\n",
       "    .dataframe tbody tr th {\n",
       "        vertical-align: top;\n",
       "    }\n",
       "\n",
       "    .dataframe thead th {\n",
       "        text-align: right;\n",
       "    }\n",
       "</style>\n",
       "<table border=\"1\" class=\"dataframe\">\n",
       "  <thead>\n",
       "    <tr style=\"text-align: right;\">\n",
       "      <th></th>\n",
       "      <th>TIME_STAMP</th>\n",
       "      <th>TEMPERATURE</th>\n",
       "    </tr>\n",
       "  </thead>\n",
       "  <tbody>\n",
       "    <tr>\n",
       "      <th>1</th>\n",
       "      <td>2019-04-09 23:00:00</td>\n",
       "      <td>68.0</td>\n",
       "    </tr>\n",
       "    <tr>\n",
       "      <th>2</th>\n",
       "      <td>2019-04-10 00:00:00</td>\n",
       "      <td>68.0</td>\n",
       "    </tr>\n",
       "    <tr>\n",
       "      <th>3</th>\n",
       "      <td>2019-04-10 01:00:00</td>\n",
       "      <td>67.0</td>\n",
       "    </tr>\n",
       "    <tr>\n",
       "      <th>4</th>\n",
       "      <td>2019-04-10 02:00:00</td>\n",
       "      <td>67.0</td>\n",
       "    </tr>\n",
       "    <tr>\n",
       "      <th>5</th>\n",
       "      <td>2019-04-10 03:00:00</td>\n",
       "      <td>66.0</td>\n",
       "    </tr>\n",
       "  </tbody>\n",
       "</table>\n",
       "</div>"
      ],
      "text/plain": [
       "           TIME_STAMP  TEMPERATURE\n",
       "1 2019-04-09 23:00:00         68.0\n",
       "2 2019-04-10 00:00:00         68.0\n",
       "3 2019-04-10 01:00:00         67.0\n",
       "4 2019-04-10 02:00:00         67.0\n",
       "5 2019-04-10 03:00:00         66.0"
      ]
     },
     "execution_count": 100,
     "metadata": {},
     "output_type": "execute_result"
    }
   ],
   "source": [
    "# Export to csv\n",
    "df.to_csv(\"Rambo.csv\", sep=',', encoding='utf-8')\n",
    "df.head()"
   ]
  },
  {
   "cell_type": "code",
   "execution_count": 130,
   "metadata": {},
   "outputs": [
    {
     "data": {
      "text/html": [
       "<div>\n",
       "<style scoped>\n",
       "    .dataframe tbody tr th:only-of-type {\n",
       "        vertical-align: middle;\n",
       "    }\n",
       "\n",
       "    .dataframe tbody tr th {\n",
       "        vertical-align: top;\n",
       "    }\n",
       "\n",
       "    .dataframe thead th {\n",
       "        text-align: right;\n",
       "    }\n",
       "</style>\n",
       "<table border=\"1\" class=\"dataframe\">\n",
       "  <thead>\n",
       "    <tr style=\"text-align: right;\">\n",
       "      <th></th>\n",
       "      <th>TIME_STAMP</th>\n",
       "      <th>TEMPERATURE</th>\n",
       "      <th>F_TEMP</th>\n",
       "      <th>A_TEMP</th>\n",
       "    </tr>\n",
       "  </thead>\n",
       "  <tbody>\n",
       "    <tr>\n",
       "      <th>0</th>\n",
       "      <td>2019-04-11 3:00</td>\n",
       "      <td>70</td>\n",
       "      <td>65.45</td>\n",
       "      <td>65.81</td>\n",
       "    </tr>\n",
       "    <tr>\n",
       "      <th>1</th>\n",
       "      <td>2019-04-11 4:00</td>\n",
       "      <td>68</td>\n",
       "      <td>62.79</td>\n",
       "      <td>64.10</td>\n",
       "    </tr>\n",
       "    <tr>\n",
       "      <th>2</th>\n",
       "      <td>2019-04-11 5:00</td>\n",
       "      <td>67</td>\n",
       "      <td>60.54</td>\n",
       "      <td>63.04</td>\n",
       "    </tr>\n",
       "    <tr>\n",
       "      <th>3</th>\n",
       "      <td>2019-04-11 6:00</td>\n",
       "      <td>67</td>\n",
       "      <td>60.48</td>\n",
       "      <td>62.80</td>\n",
       "    </tr>\n",
       "    <tr>\n",
       "      <th>4</th>\n",
       "      <td>2019-04-11 7:00</td>\n",
       "      <td>67</td>\n",
       "      <td>60.08</td>\n",
       "      <td>62.19</td>\n",
       "    </tr>\n",
       "  </tbody>\n",
       "</table>\n",
       "</div>"
      ],
      "text/plain": [
       "        TIME_STAMP  TEMPERATURE  F_TEMP  A_TEMP\n",
       "0  2019-04-11 3:00           70   65.45   65.81\n",
       "1  2019-04-11 4:00           68   62.79   64.10\n",
       "2  2019-04-11 5:00           67   60.54   63.04\n",
       "3  2019-04-11 6:00           67   60.48   62.80\n",
       "4  2019-04-11 7:00           67   60.08   62.19"
      ]
     },
     "execution_count": 130,
     "metadata": {},
     "output_type": "execute_result"
    }
   ],
   "source": [
    "# Importing API data\n",
    "dfr = pd.read_csv(\"data/Rambo.csv\")\n",
    "dfr.head()"
   ]
  },
  {
   "cell_type": "code",
   "execution_count": null,
   "metadata": {},
   "outputs": [],
   "source": []
  },
  {
   "cell_type": "code",
   "execution_count": 131,
   "metadata": {},
   "outputs": [
    {
     "ename": "AttributeError",
     "evalue": "Can only use .dt accessor with datetimelike values",
     "output_type": "error",
     "traceback": [
      "\u001b[1;31m---------------------------------------------------------------------------\u001b[0m",
      "\u001b[1;31mAttributeError\u001b[0m                            Traceback (most recent call last)",
      "\u001b[1;32m<ipython-input-131-3a16d7a6bd65>\u001b[0m in \u001b[0;36m<module>\u001b[1;34m\u001b[0m\n\u001b[0;32m      1\u001b[0m \u001b[1;31m# Convert back to string for Json\u001b[0m\u001b[1;33m\u001b[0m\u001b[1;33m\u001b[0m\u001b[1;33m\u001b[0m\u001b[0m\n\u001b[1;32m----> 2\u001b[1;33m \u001b[0mdfr\u001b[0m\u001b[1;33m[\u001b[0m\u001b[1;34m'TIME_STAMP'\u001b[0m\u001b[1;33m]\u001b[0m \u001b[1;33m=\u001b[0m \u001b[0mdfr\u001b[0m\u001b[1;33m[\u001b[0m\u001b[1;34m'TIME_STAMP'\u001b[0m\u001b[1;33m]\u001b[0m\u001b[1;33m.\u001b[0m\u001b[0mdt\u001b[0m\u001b[1;33m.\u001b[0m\u001b[0mstrftime\u001b[0m\u001b[1;33m(\u001b[0m\u001b[1;34m'%m-%d-%Y %H:%M'\u001b[0m\u001b[1;33m)\u001b[0m\u001b[1;33m\u001b[0m\u001b[1;33m\u001b[0m\u001b[0m\n\u001b[0m\u001b[0;32m      3\u001b[0m \u001b[0mdfr\u001b[0m\u001b[1;33m.\u001b[0m\u001b[0mhead\u001b[0m\u001b[1;33m(\u001b[0m\u001b[1;33m)\u001b[0m\u001b[1;33m\u001b[0m\u001b[1;33m\u001b[0m\u001b[0m\n",
      "\u001b[1;32mC:\\Anaconda3\\envs\\PythonData\\lib\\site-packages\\pandas\\core\\generic.py\u001b[0m in \u001b[0;36m__getattr__\u001b[1;34m(self, name)\u001b[0m\n\u001b[0;32m   4370\u001b[0m         if (name in self._internal_names_set or name in self._metadata or\n\u001b[0;32m   4371\u001b[0m                 name in self._accessors):\n\u001b[1;32m-> 4372\u001b[1;33m             \u001b[1;32mreturn\u001b[0m \u001b[0mobject\u001b[0m\u001b[1;33m.\u001b[0m\u001b[0m__getattribute__\u001b[0m\u001b[1;33m(\u001b[0m\u001b[0mself\u001b[0m\u001b[1;33m,\u001b[0m \u001b[0mname\u001b[0m\u001b[1;33m)\u001b[0m\u001b[1;33m\u001b[0m\u001b[1;33m\u001b[0m\u001b[0m\n\u001b[0m\u001b[0;32m   4373\u001b[0m         \u001b[1;32melse\u001b[0m\u001b[1;33m:\u001b[0m\u001b[1;33m\u001b[0m\u001b[1;33m\u001b[0m\u001b[0m\n\u001b[0;32m   4374\u001b[0m             \u001b[1;32mif\u001b[0m \u001b[0mself\u001b[0m\u001b[1;33m.\u001b[0m\u001b[0m_info_axis\u001b[0m\u001b[1;33m.\u001b[0m\u001b[0m_can_hold_identifiers_and_holds_name\u001b[0m\u001b[1;33m(\u001b[0m\u001b[0mname\u001b[0m\u001b[1;33m)\u001b[0m\u001b[1;33m:\u001b[0m\u001b[1;33m\u001b[0m\u001b[1;33m\u001b[0m\u001b[0m\n",
      "\u001b[1;32mC:\\Anaconda3\\envs\\PythonData\\lib\\site-packages\\pandas\\core\\accessor.py\u001b[0m in \u001b[0;36m__get__\u001b[1;34m(self, obj, cls)\u001b[0m\n\u001b[0;32m    131\u001b[0m             \u001b[1;31m# we're accessing the attribute of the class, i.e., Dataset.geo\u001b[0m\u001b[1;33m\u001b[0m\u001b[1;33m\u001b[0m\u001b[1;33m\u001b[0m\u001b[0m\n\u001b[0;32m    132\u001b[0m             \u001b[1;32mreturn\u001b[0m \u001b[0mself\u001b[0m\u001b[1;33m.\u001b[0m\u001b[0m_accessor\u001b[0m\u001b[1;33m\u001b[0m\u001b[1;33m\u001b[0m\u001b[0m\n\u001b[1;32m--> 133\u001b[1;33m         \u001b[0maccessor_obj\u001b[0m \u001b[1;33m=\u001b[0m \u001b[0mself\u001b[0m\u001b[1;33m.\u001b[0m\u001b[0m_accessor\u001b[0m\u001b[1;33m(\u001b[0m\u001b[0mobj\u001b[0m\u001b[1;33m)\u001b[0m\u001b[1;33m\u001b[0m\u001b[1;33m\u001b[0m\u001b[0m\n\u001b[0m\u001b[0;32m    134\u001b[0m         \u001b[1;31m# Replace the property with the accessor object. Inspired by:\u001b[0m\u001b[1;33m\u001b[0m\u001b[1;33m\u001b[0m\u001b[1;33m\u001b[0m\u001b[0m\n\u001b[0;32m    135\u001b[0m         \u001b[1;31m# http://www.pydanny.com/cached-property.html\u001b[0m\u001b[1;33m\u001b[0m\u001b[1;33m\u001b[0m\u001b[1;33m\u001b[0m\u001b[0m\n",
      "\u001b[1;32mC:\\Anaconda3\\envs\\PythonData\\lib\\site-packages\\pandas\\core\\indexes\\accessors.py\u001b[0m in \u001b[0;36m__new__\u001b[1;34m(cls, data)\u001b[0m\n\u001b[0;32m    323\u001b[0m             \u001b[1;32mpass\u001b[0m  \u001b[1;31m# we raise an attribute error anyway\u001b[0m\u001b[1;33m\u001b[0m\u001b[1;33m\u001b[0m\u001b[0m\n\u001b[0;32m    324\u001b[0m \u001b[1;33m\u001b[0m\u001b[0m\n\u001b[1;32m--> 325\u001b[1;33m         raise AttributeError(\"Can only use .dt accessor with datetimelike \"\n\u001b[0m\u001b[0;32m    326\u001b[0m                              \"values\")\n",
      "\u001b[1;31mAttributeError\u001b[0m: Can only use .dt accessor with datetimelike values"
     ]
    }
   ],
   "source": [
    "# Convert back to string for Json \n",
    "dfr['TIME_STAMP'] = dfr['TIME_STAMP'].dt.strftime('%m-%d-%Y %H:%M')\n",
    "dfr.head()"
   ]
  },
  {
   "cell_type": "code",
   "execution_count": 134,
   "metadata": {},
   "outputs": [],
   "source": [
    "df_json_ready = dfr.to_json(orient='records')"
   ]
  },
  {
   "cell_type": "code",
   "execution_count": 135,
   "metadata": {},
   "outputs": [
    {
     "data": {
      "text/plain": [
       "'[{\"TIME_STAMP\":\"2019-04-11 3:00\",\"TEMPERATURE\":70,\"F_TEMP\":65.45,\"A_TEMP\":65.81},{\"TIME_STAMP\":\"2019-04-11 4:00\",\"TEMPERATURE\":68,\"F_TEMP\":62.79,\"A_TEMP\":64.1},{\"TIME_STAMP\":\"2019-04-11 5:00\",\"TEMPERATURE\":67,\"F_TEMP\":60.54,\"A_TEMP\":63.04},{\"TIME_STAMP\":\"2019-04-11 6:00\",\"TEMPERATURE\":67,\"F_TEMP\":60.48,\"A_TEMP\":62.8},{\"TIME_STAMP\":\"2019-04-11 7:00\",\"TEMPERATURE\":67,\"F_TEMP\":60.08,\"A_TEMP\":62.19},{\"TIME_STAMP\":\"2019-04-11 8:00\",\"TEMPERATURE\":67,\"F_TEMP\":60.08,\"A_TEMP\":61.62},{\"TIME_STAMP\":\"2019-04-11 9:00\",\"TEMPERATURE\":67,\"F_TEMP\":60.88,\"A_TEMP\":60.08},{\"TIME_STAMP\":\"2019-04-11 10:00\",\"TEMPERATURE\":69,\"F_TEMP\":60.65,\"A_TEMP\":58.9},{\"TIME_STAMP\":\"2019-04-11 11:00\",\"TEMPERATURE\":70,\"F_TEMP\":60.1,\"A_TEMP\":57.95},{\"TIME_STAMP\":\"2019-04-11 12:00\",\"TEMPERATURE\":72,\"F_TEMP\":60.14,\"A_TEMP\":58.52},{\"TIME_STAMP\":\"2019-04-11 13:00\",\"TEMPERATURE\":74,\"F_TEMP\":63.5,\"A_TEMP\":61.8},{\"TIME_STAMP\":\"2019-04-11 14:00\",\"TEMPERATURE\":75,\"F_TEMP\":67.9,\"A_TEMP\":65.99},{\"TIME_STAMP\":\"2019-04-11 15:00\",\"TEMPERATURE\":77,\"F_TEMP\":71.61,\"A_TEMP\":69.61},{\"TIME_STAMP\":\"2019-04-11 16:00\",\"TEMPERATURE\":79,\"F_TEMP\":74.56,\"A_TEMP\":72.66},{\"TIME_STAMP\":\"2019-04-11 17:00\",\"TEMPERATURE\":80,\"F_TEMP\":77.36,\"A_TEMP\":74.81},{\"TIME_STAMP\":\"2019-04-11 18:00\",\"TEMPERATURE\":80,\"F_TEMP\":79.4,\"A_TEMP\":77.28},{\"TIME_STAMP\":\"2019-04-11 19:00\",\"TEMPERATURE\":81,\"F_TEMP\":80.87,\"A_TEMP\":78.98},{\"TIME_STAMP\":\"2019-04-11 20:00\",\"TEMPERATURE\":81,\"F_TEMP\":81.14,\"A_TEMP\":80.4},{\"TIME_STAMP\":\"2019-04-11 21:00\",\"TEMPERATURE\":81,\"F_TEMP\":81.6,\"A_TEMP\":80.4},{\"TIME_STAMP\":\"2019-04-11 22:00\",\"TEMPERATURE\":80,\"F_TEMP\":81.11,\"A_TEMP\":79.63},{\"TIME_STAMP\":\"2019-04-11 23:00\",\"TEMPERATURE\":80,\"F_TEMP\":79.93,\"A_TEMP\":76.92},{\"TIME_STAMP\":\"2019-04-12 0:00\",\"TEMPERATURE\":79,\"F_TEMP\":78.1,\"A_TEMP\":74.43},{\"TIME_STAMP\":\"2019-04-12 1:00\",\"TEMPERATURE\":78,\"F_TEMP\":75.28,\"A_TEMP\":72.41},{\"TIME_STAMP\":\"2019-04-12 2:00\",\"TEMPERATURE\":78,\"F_TEMP\":73.35,\"A_TEMP\":71.22},{\"TIME_STAMP\":\"2019-04-12 3:00\",\"TEMPERATURE\":76,\"F_TEMP\":72.19,\"A_TEMP\":72.7},{\"TIME_STAMP\":\"2019-04-12 4:00\",\"TEMPERATURE\":76,\"F_TEMP\":71.15,\"A_TEMP\":70.61},{\"TIME_STAMP\":\"2019-04-12 5:00\",\"TEMPERATURE\":75,\"F_TEMP\":70.2,\"A_TEMP\":68.47},{\"TIME_STAMP\":\"2019-04-12 6:00\",\"TEMPERATURE\":75,\"F_TEMP\":68.88,\"A_TEMP\":66.95},{\"TIME_STAMP\":\"2019-04-12 7:00\",\"TEMPERATURE\":74,\"F_TEMP\":68.71,\"A_TEMP\":66.43},{\"TIME_STAMP\":\"2019-04-12 8:00\",\"TEMPERATURE\":74,\"F_TEMP\":68.36,\"A_TEMP\":65.94},{\"TIME_STAMP\":\"2019-04-12 9:00\",\"TEMPERATURE\":73,\"F_TEMP\":69.38,\"A_TEMP\":65.3},{\"TIME_STAMP\":\"2019-04-12 10:00\",\"TEMPERATURE\":73,\"F_TEMP\":68.89,\"A_TEMP\":64.83},{\"TIME_STAMP\":\"2019-04-12 11:00\",\"TEMPERATURE\":73,\"F_TEMP\":68.39,\"A_TEMP\":64.58},{\"TIME_STAMP\":\"2019-04-12 12:00\",\"TEMPERATURE\":73,\"F_TEMP\":67.34,\"A_TEMP\":64.95},{\"TIME_STAMP\":\"2019-04-12 13:00\",\"TEMPERATURE\":74,\"F_TEMP\":67.53,\"A_TEMP\":65.78},{\"TIME_STAMP\":\"2019-04-12 14:00\",\"TEMPERATURE\":75,\"F_TEMP\":68.85,\"A_TEMP\":67.36},{\"TIME_STAMP\":\"2019-04-12 15:00\",\"TEMPERATURE\":76,\"F_TEMP\":70.53,\"A_TEMP\":69.44},{\"TIME_STAMP\":\"2019-04-12 16:00\",\"TEMPERATURE\":77,\"F_TEMP\":72.59,\"A_TEMP\":71.61},{\"TIME_STAMP\":\"2019-04-12 17:00\",\"TEMPERATURE\":78,\"F_TEMP\":75.01,\"A_TEMP\":74.13},{\"TIME_STAMP\":\"2019-04-12 18:00\",\"TEMPERATURE\":79,\"F_TEMP\":76.9,\"A_TEMP\":76.02},{\"TIME_STAMP\":\"2019-04-12 19:00\",\"TEMPERATURE\":79,\"F_TEMP\":78.23,\"A_TEMP\":77.47},{\"TIME_STAMP\":\"2019-04-12 20:00\",\"TEMPERATURE\":79,\"F_TEMP\":78.68,\"A_TEMP\":78.78},{\"TIME_STAMP\":\"2019-04-12 21:00\",\"TEMPERATURE\":79,\"F_TEMP\":78.31,\"A_TEMP\":79.68},{\"TIME_STAMP\":\"2019-04-12 22:00\",\"TEMPERATURE\":78,\"F_TEMP\":77.74,\"A_TEMP\":79.63},{\"TIME_STAMP\":\"2019-04-12 23:00\",\"TEMPERATURE\":76,\"F_TEMP\":76.72,\"A_TEMP\":78.22},{\"TIME_STAMP\":\"2019-04-13 0:00\",\"TEMPERATURE\":75,\"F_TEMP\":74.03,\"A_TEMP\":75.55},{\"TIME_STAMP\":\"2019-04-13 1:00\",\"TEMPERATURE\":74,\"F_TEMP\":68.99,\"A_TEMP\":72.89},{\"TIME_STAMP\":\"2019-04-13 2:00\",\"TEMPERATURE\":72,\"F_TEMP\":66.35,\"A_TEMP\":70.3},{\"TIME_STAMP\":\"2019-04-13 3:00\",\"TEMPERATURE\":71,\"F_TEMP\":64.53,\"A_TEMP\":68.62},{\"TIME_STAMP\":\"2019-04-13 4:00\",\"TEMPERATURE\":70,\"F_TEMP\":62.93,\"A_TEMP\":66.7},{\"TIME_STAMP\":\"2019-04-13 5:00\",\"TEMPERATURE\":69,\"F_TEMP\":61.78,\"A_TEMP\":65.97},{\"TIME_STAMP\":\"2019-04-13 6:00\",\"TEMPERATURE\":68,\"F_TEMP\":60.87,\"A_TEMP\":65.49},{\"TIME_STAMP\":\"2019-04-13 7:00\",\"TEMPERATURE\":68,\"F_TEMP\":59.57,\"A_TEMP\":64.26},{\"TIME_STAMP\":\"2019-04-13 8:00\",\"TEMPERATURE\":67,\"F_TEMP\":58.91,\"A_TEMP\":63.5},{\"TIME_STAMP\":\"2019-04-13 9:00\",\"TEMPERATURE\":67,\"F_TEMP\":58.42,\"A_TEMP\":62.53},{\"TIME_STAMP\":\"2019-04-13 10:00\",\"TEMPERATURE\":67,\"F_TEMP\":59.43,\"A_TEMP\":61.81},{\"TIME_STAMP\":\"2019-04-13 11:00\",\"TEMPERATURE\":68,\"F_TEMP\":59.81,\"A_TEMP\":61.31},{\"TIME_STAMP\":\"2019-04-13 12:00\",\"TEMPERATURE\":69,\"F_TEMP\":61.07,\"A_TEMP\":61.63},{\"TIME_STAMP\":\"2019-04-13 13:00\",\"TEMPERATURE\":71,\"F_TEMP\":64.25,\"A_TEMP\":63.64},{\"TIME_STAMP\":\"2019-04-13 14:00\",\"TEMPERATURE\":72,\"F_TEMP\":67.17,\"A_TEMP\":66.79},{\"TIME_STAMP\":\"2019-04-13 15:00\",\"TEMPERATURE\":74,\"F_TEMP\":69.47,\"A_TEMP\":70.1},{\"TIME_STAMP\":\"2019-04-13 16:00\",\"TEMPERATURE\":75,\"F_TEMP\":71.64,\"A_TEMP\":73.22},{\"TIME_STAMP\":\"2019-04-13 17:00\",\"TEMPERATURE\":77,\"F_TEMP\":73.5,\"A_TEMP\":75.82},{\"TIME_STAMP\":\"2019-04-13 18:00\",\"TEMPERATURE\":78,\"F_TEMP\":75.66,\"A_TEMP\":78.38},{\"TIME_STAMP\":\"2019-04-13 19:00\",\"TEMPERATURE\":80,\"F_TEMP\":77.99,\"A_TEMP\":80.03},{\"TIME_STAMP\":\"2019-04-13 20:00\",\"TEMPERATURE\":80,\"F_TEMP\":79.12,\"A_TEMP\":81.32},{\"TIME_STAMP\":\"2019-04-13 21:00\",\"TEMPERATURE\":80,\"F_TEMP\":81.13,\"A_TEMP\":81.66},{\"TIME_STAMP\":\"2019-04-13 22:00\",\"TEMPERATURE\":80,\"F_TEMP\":81.78,\"A_TEMP\":81.45},{\"TIME_STAMP\":\"2019-04-13 23:00\",\"TEMPERATURE\":80,\"F_TEMP\":81.17,\"A_TEMP\":79.55},{\"TIME_STAMP\":\"2019-04-14 0:00\",\"TEMPERATURE\":79,\"F_TEMP\":78.72,\"A_TEMP\":77.31},{\"TIME_STAMP\":\"2019-04-14 1:00\",\"TEMPERATURE\":79,\"F_TEMP\":75.91,\"A_TEMP\":75.65},{\"TIME_STAMP\":\"2019-04-14 2:00\",\"TEMPERATURE\":78,\"F_TEMP\":74.66,\"A_TEMP\":74.12}]'"
      ]
     },
     "execution_count": 135,
     "metadata": {},
     "output_type": "execute_result"
    }
   ],
   "source": [
    "df_json_ready"
   ]
  },
  {
   "cell_type": "code",
   "execution_count": 21,
   "metadata": {},
   "outputs": [],
   "source": [
    "df.to_json(r'Rambo.json')"
   ]
  },
  {
   "cell_type": "code",
   "execution_count": null,
   "metadata": {},
   "outputs": [],
   "source": []
  },
  {
   "cell_type": "code",
   "execution_count": null,
   "metadata": {},
   "outputs": [],
   "source": []
  },
  {
   "cell_type": "code",
   "execution_count": null,
   "metadata": {},
   "outputs": [],
   "source": []
  },
  {
   "cell_type": "code",
   "execution_count": null,
   "metadata": {},
   "outputs": [],
   "source": []
  }
 ],
 "metadata": {
  "kernelspec": {
   "display_name": "Python 3",
   "language": "python",
   "name": "python3"
  },
  "language_info": {
   "codemirror_mode": {
    "name": "ipython",
    "version": 3
   },
   "file_extension": ".py",
   "mimetype": "text/x-python",
   "name": "python",
   "nbconvert_exporter": "python",
   "pygments_lexer": "ipython3",
   "version": "3.7.1"
  }
 },
 "nbformat": 4,
 "nbformat_minor": 2
}
