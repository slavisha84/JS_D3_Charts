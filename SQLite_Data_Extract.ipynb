{
 "cells": [
  {
   "cell_type": "code",
   "execution_count": 1,
   "metadata": {},
   "outputs": [],
   "source": [
    "# Importing dependencies for comunicating with sqlite db\n",
    "import sqlalchemy\n",
    "from sqlalchemy.ext.automap import automap_base\n",
    "from sqlalchemy import create_engine,inspect, func, desc\n",
    "from sqlalchemy.ext.declarative import declarative_base\n",
    "from sqlalchemy.orm import Session\n",
    "import pyodbc\n",
    "import sqlalchemy as sa\n",
    "import urllib\n",
    "import pandas as pd\n",
    "import os"
   ]
  },
  {
   "cell_type": "code",
   "execution_count": 8,
   "metadata": {},
   "outputs": [],
   "source": [
    "# Create engine to connect to Sensors.db\n",
    "engine = create_engine('sqlite:///data/Sensors.db', echo=False)\n",
    "Base = automap_base()"
   ]
  },
  {
   "cell_type": "code",
   "execution_count": 9,
   "metadata": {},
   "outputs": [
    {
     "data": {
      "text/plain": [
       "['BME_DATA']"
      ]
     },
     "execution_count": 9,
     "metadata": {},
     "output_type": "execute_result"
    }
   ],
   "source": [
    "# Using Base.prepare and Base.classes we will reflect DB into ORM classes\n",
    "Base.prepare(engine, reflect=True)\n",
    "Base.classes.keys()"
   ]
  },
  {
   "cell_type": "code",
   "execution_count": 10,
   "metadata": {},
   "outputs": [
    {
     "data": {
      "text/plain": [
       "['BME_DATA']"
      ]
     },
     "execution_count": 10,
     "metadata": {},
     "output_type": "execute_result"
    }
   ],
   "source": [
    "# Explore database with inspector\n",
    "inspector = inspect(engine)\n",
    "inspector.get_table_names()"
   ]
  },
  {
   "cell_type": "code",
   "execution_count": 11,
   "metadata": {},
   "outputs": [],
   "source": [
    "# Save the refference from table BME_DATA\n",
    "Rambo = Base.classes.BME_DATA"
   ]
  },
  {
   "cell_type": "code",
   "execution_count": 12,
   "metadata": {},
   "outputs": [],
   "source": [
    "# Create db sesion object\n",
    "session = Session(engine)"
   ]
  },
  {
   "cell_type": "code",
   "execution_count": 13,
   "metadata": {},
   "outputs": [],
   "source": [
    "# Creating the query to identify last date to identify end ponint of the year\n",
    "df = pd.read_sql(\"SELECT * FROM BME_DATA\", engine)"
   ]
  },
  {
   "cell_type": "code",
   "execution_count": 14,
   "metadata": {},
   "outputs": [],
   "source": [
    "df['TIME_STAMP'] = pd.to_datetime(df['TIME_STAMP'])"
   ]
  },
  {
   "cell_type": "code",
   "execution_count": 15,
   "metadata": {},
   "outputs": [],
   "source": [
    "# using funciton to convert string into date time\n",
    "from datetime import datetime, timedelta\n",
    "\n",
    "def hour_rounder(t):\n",
    "    # Rounds to nearest hour by adding a timedelta hour if minute >= 30\n",
    "    return (t.replace(second=0, microsecond=0, minute=0, hour=t.hour)\n",
    "               +timedelta(hours=t.minute//30))\n"
   ]
  },
  {
   "cell_type": "code",
   "execution_count": 16,
   "metadata": {},
   "outputs": [],
   "source": [
    "# testing on  single value\n",
    "test = hour_rounder(df['TIME_STAMP'][0])"
   ]
  },
  {
   "cell_type": "code",
   "execution_count": 17,
   "metadata": {},
   "outputs": [],
   "source": [
    "# converting fro all values in entire column\n",
    "df['TIME_STAMP'] = df['TIME_STAMP'].apply(hour_rounder)"
   ]
  },
  {
   "cell_type": "code",
   "execution_count": 18,
   "metadata": {},
   "outputs": [],
   "source": [
    "# converting temperature from C to f\n",
    "df['TEMPERATURE'] = round((df['TEMPERATURE']* 9/5) + 32)\n"
   ]
  },
  {
   "cell_type": "code",
   "execution_count": 19,
   "metadata": {},
   "outputs": [],
   "source": [
    "# create new tale and drop Id\n",
    "df = df[[\"TIME_STAMP\", \"TEMPERATURE\"]]"
   ]
  },
  {
   "cell_type": "code",
   "execution_count": 20,
   "metadata": {},
   "outputs": [
    {
     "data": {
      "text/html": [
       "<div>\n",
       "<style scoped>\n",
       "    .dataframe tbody tr th:only-of-type {\n",
       "        vertical-align: middle;\n",
       "    }\n",
       "\n",
       "    .dataframe tbody tr th {\n",
       "        vertical-align: top;\n",
       "    }\n",
       "\n",
       "    .dataframe thead th {\n",
       "        text-align: right;\n",
       "    }\n",
       "</style>\n",
       "<table border=\"1\" class=\"dataframe\">\n",
       "  <thead>\n",
       "    <tr style=\"text-align: right;\">\n",
       "      <th></th>\n",
       "      <th>TIME_STAMP</th>\n",
       "      <th>TEMPERATURE</th>\n",
       "    </tr>\n",
       "  </thead>\n",
       "  <tbody>\n",
       "    <tr>\n",
       "      <th>0</th>\n",
       "      <td>2019-04-09 23:00:00</td>\n",
       "      <td>167.0</td>\n",
       "    </tr>\n",
       "    <tr>\n",
       "      <th>1</th>\n",
       "      <td>2019-04-09 23:00:00</td>\n",
       "      <td>68.0</td>\n",
       "    </tr>\n",
       "    <tr>\n",
       "      <th>2</th>\n",
       "      <td>2019-04-10 00:00:00</td>\n",
       "      <td>68.0</td>\n",
       "    </tr>\n",
       "    <tr>\n",
       "      <th>3</th>\n",
       "      <td>2019-04-10 01:00:00</td>\n",
       "      <td>67.0</td>\n",
       "    </tr>\n",
       "    <tr>\n",
       "      <th>4</th>\n",
       "      <td>2019-04-10 02:00:00</td>\n",
       "      <td>67.0</td>\n",
       "    </tr>\n",
       "  </tbody>\n",
       "</table>\n",
       "</div>"
      ],
      "text/plain": [
       "           TIME_STAMP  TEMPERATURE\n",
       "0 2019-04-09 23:00:00        167.0\n",
       "1 2019-04-09 23:00:00         68.0\n",
       "2 2019-04-10 00:00:00         68.0\n",
       "3 2019-04-10 01:00:00         67.0\n",
       "4 2019-04-10 02:00:00         67.0"
      ]
     },
     "execution_count": 20,
     "metadata": {},
     "output_type": "execute_result"
    }
   ],
   "source": [
    "df.head()"
   ]
  },
  {
   "cell_type": "code",
   "execution_count": 21,
   "metadata": {},
   "outputs": [
    {
     "data": {
      "text/html": [
       "<div>\n",
       "<style scoped>\n",
       "    .dataframe tbody tr th:only-of-type {\n",
       "        vertical-align: middle;\n",
       "    }\n",
       "\n",
       "    .dataframe tbody tr th {\n",
       "        vertical-align: top;\n",
       "    }\n",
       "\n",
       "    .dataframe thead th {\n",
       "        text-align: right;\n",
       "    }\n",
       "</style>\n",
       "<table border=\"1\" class=\"dataframe\">\n",
       "  <thead>\n",
       "    <tr style=\"text-align: right;\">\n",
       "      <th></th>\n",
       "      <th>TIME_STAMP</th>\n",
       "      <th>TEMPERATURE</th>\n",
       "    </tr>\n",
       "  </thead>\n",
       "  <tbody>\n",
       "    <tr>\n",
       "      <th>1</th>\n",
       "      <td>2019-04-09 23:00:00</td>\n",
       "      <td>68.0</td>\n",
       "    </tr>\n",
       "    <tr>\n",
       "      <th>2</th>\n",
       "      <td>2019-04-10 00:00:00</td>\n",
       "      <td>68.0</td>\n",
       "    </tr>\n",
       "    <tr>\n",
       "      <th>3</th>\n",
       "      <td>2019-04-10 01:00:00</td>\n",
       "      <td>67.0</td>\n",
       "    </tr>\n",
       "    <tr>\n",
       "      <th>4</th>\n",
       "      <td>2019-04-10 02:00:00</td>\n",
       "      <td>67.0</td>\n",
       "    </tr>\n",
       "    <tr>\n",
       "      <th>5</th>\n",
       "      <td>2019-04-10 03:00:00</td>\n",
       "      <td>66.0</td>\n",
       "    </tr>\n",
       "  </tbody>\n",
       "</table>\n",
       "</div>"
      ],
      "text/plain": [
       "           TIME_STAMP  TEMPERATURE\n",
       "1 2019-04-09 23:00:00         68.0\n",
       "2 2019-04-10 00:00:00         68.0\n",
       "3 2019-04-10 01:00:00         67.0\n",
       "4 2019-04-10 02:00:00         67.0\n",
       "5 2019-04-10 03:00:00         66.0"
      ]
     },
     "execution_count": 21,
     "metadata": {},
     "output_type": "execute_result"
    }
   ],
   "source": [
    "# Deleting the wrong input at the first row\n",
    "df = df.iloc[1:]\n",
    "df.head()"
   ]
  },
  {
   "cell_type": "code",
   "execution_count": 22,
   "metadata": {},
   "outputs": [],
   "source": [
    "# Importing API data\n",
    "#API_df = pd.read_csv(\"data/API.csv\")\n",
    "#API_df.head()"
   ]
  },
  {
   "cell_type": "code",
   "execution_count": 23,
   "metadata": {},
   "outputs": [],
   "source": [
    "# Merging API and RAMBO dataframes On date\n",
    "#master_df = pd.merge(fifa_subset, gdp_subset, on = \"Nationality\", how = \"left\", suffixes=(\"_\",\"\"))"
   ]
  },
  {
   "cell_type": "code",
   "execution_count": 24,
   "metadata": {},
   "outputs": [
    {
     "data": {
      "text/html": [
       "<div>\n",
       "<style scoped>\n",
       "    .dataframe tbody tr th:only-of-type {\n",
       "        vertical-align: middle;\n",
       "    }\n",
       "\n",
       "    .dataframe tbody tr th {\n",
       "        vertical-align: top;\n",
       "    }\n",
       "\n",
       "    .dataframe thead th {\n",
       "        text-align: right;\n",
       "    }\n",
       "</style>\n",
       "<table border=\"1\" class=\"dataframe\">\n",
       "  <thead>\n",
       "    <tr style=\"text-align: right;\">\n",
       "      <th></th>\n",
       "      <th>TIME_STAMP</th>\n",
       "      <th>TEMPERATURE</th>\n",
       "    </tr>\n",
       "  </thead>\n",
       "  <tbody>\n",
       "    <tr>\n",
       "      <th>1</th>\n",
       "      <td>2019-04-09 23:00:00</td>\n",
       "      <td>68.0</td>\n",
       "    </tr>\n",
       "    <tr>\n",
       "      <th>2</th>\n",
       "      <td>2019-04-10 00:00:00</td>\n",
       "      <td>68.0</td>\n",
       "    </tr>\n",
       "    <tr>\n",
       "      <th>3</th>\n",
       "      <td>2019-04-10 01:00:00</td>\n",
       "      <td>67.0</td>\n",
       "    </tr>\n",
       "    <tr>\n",
       "      <th>4</th>\n",
       "      <td>2019-04-10 02:00:00</td>\n",
       "      <td>67.0</td>\n",
       "    </tr>\n",
       "    <tr>\n",
       "      <th>5</th>\n",
       "      <td>2019-04-10 03:00:00</td>\n",
       "      <td>66.0</td>\n",
       "    </tr>\n",
       "  </tbody>\n",
       "</table>\n",
       "</div>"
      ],
      "text/plain": [
       "           TIME_STAMP  TEMPERATURE\n",
       "1 2019-04-09 23:00:00         68.0\n",
       "2 2019-04-10 00:00:00         68.0\n",
       "3 2019-04-10 01:00:00         67.0\n",
       "4 2019-04-10 02:00:00         67.0\n",
       "5 2019-04-10 03:00:00         66.0"
      ]
     },
     "execution_count": 24,
     "metadata": {},
     "output_type": "execute_result"
    }
   ],
   "source": [
    "# Export to csv\n",
    "df.to_csv(\"Rambo.csv\", sep=',', encoding='utf-8')\n",
    "df.head()"
   ]
  },
  {
   "cell_type": "code",
   "execution_count": 2,
   "metadata": {},
   "outputs": [
    {
     "data": {
      "text/html": [
       "<div>\n",
       "<style scoped>\n",
       "    .dataframe tbody tr th:only-of-type {\n",
       "        vertical-align: middle;\n",
       "    }\n",
       "\n",
       "    .dataframe tbody tr th {\n",
       "        vertical-align: top;\n",
       "    }\n",
       "\n",
       "    .dataframe thead th {\n",
       "        text-align: right;\n",
       "    }\n",
       "</style>\n",
       "<table border=\"1\" class=\"dataframe\">\n",
       "  <thead>\n",
       "    <tr style=\"text-align: right;\">\n",
       "      <th></th>\n",
       "      <th>TIME_STAMP</th>\n",
       "      <th>TEMPERATURE</th>\n",
       "      <th>F_Temp</th>\n",
       "      <th>A_Temp</th>\n",
       "    </tr>\n",
       "  </thead>\n",
       "  <tbody>\n",
       "    <tr>\n",
       "      <th>0</th>\n",
       "      <td>2019-4-11 03:00</td>\n",
       "      <td>70</td>\n",
       "      <td>65.45</td>\n",
       "      <td>65.81</td>\n",
       "    </tr>\n",
       "    <tr>\n",
       "      <th>1</th>\n",
       "      <td>2019-4-11 04:00</td>\n",
       "      <td>68</td>\n",
       "      <td>62.79</td>\n",
       "      <td>64.10</td>\n",
       "    </tr>\n",
       "    <tr>\n",
       "      <th>2</th>\n",
       "      <td>2019-4-11 05:00</td>\n",
       "      <td>67</td>\n",
       "      <td>60.54</td>\n",
       "      <td>63.04</td>\n",
       "    </tr>\n",
       "    <tr>\n",
       "      <th>3</th>\n",
       "      <td>2019-4-11 06:00</td>\n",
       "      <td>67</td>\n",
       "      <td>60.48</td>\n",
       "      <td>62.80</td>\n",
       "    </tr>\n",
       "    <tr>\n",
       "      <th>4</th>\n",
       "      <td>2019-4-11 07:00</td>\n",
       "      <td>67</td>\n",
       "      <td>60.08</td>\n",
       "      <td>62.19</td>\n",
       "    </tr>\n",
       "  </tbody>\n",
       "</table>\n",
       "</div>"
      ],
      "text/plain": [
       "        TIME_STAMP  TEMPERATURE  F_Temp  A_Temp\n",
       "0  2019-4-11 03:00           70   65.45   65.81\n",
       "1  2019-4-11 04:00           68   62.79   64.10\n",
       "2  2019-4-11 05:00           67   60.54   63.04\n",
       "3  2019-4-11 06:00           67   60.48   62.80\n",
       "4  2019-4-11 07:00           67   60.08   62.19"
      ]
     },
     "execution_count": 2,
     "metadata": {},
     "output_type": "execute_result"
    }
   ],
   "source": [
    "# Importing API data\n",
    "dfr = pd.read_csv(\"data/Rambo.csv\")\n",
    "dfr.head()"
   ]
  },
  {
   "cell_type": "code",
   "execution_count": null,
   "metadata": {},
   "outputs": [],
   "source": []
  },
  {
   "cell_type": "code",
   "execution_count": 26,
   "metadata": {},
   "outputs": [
    {
     "ename": "AttributeError",
     "evalue": "Can only use .dt accessor with datetimelike values",
     "output_type": "error",
     "traceback": [
      "\u001b[1;31m---------------------------------------------------------------------------\u001b[0m",
      "\u001b[1;31mAttributeError\u001b[0m                            Traceback (most recent call last)",
      "\u001b[1;32m<ipython-input-26-3a16d7a6bd65>\u001b[0m in \u001b[0;36m<module>\u001b[1;34m\u001b[0m\n\u001b[0;32m      1\u001b[0m \u001b[1;31m# Convert back to string for Json\u001b[0m\u001b[1;33m\u001b[0m\u001b[1;33m\u001b[0m\u001b[1;33m\u001b[0m\u001b[0m\n\u001b[1;32m----> 2\u001b[1;33m \u001b[0mdfr\u001b[0m\u001b[1;33m[\u001b[0m\u001b[1;34m'TIME_STAMP'\u001b[0m\u001b[1;33m]\u001b[0m \u001b[1;33m=\u001b[0m \u001b[0mdfr\u001b[0m\u001b[1;33m[\u001b[0m\u001b[1;34m'TIME_STAMP'\u001b[0m\u001b[1;33m]\u001b[0m\u001b[1;33m.\u001b[0m\u001b[0mdt\u001b[0m\u001b[1;33m.\u001b[0m\u001b[0mstrftime\u001b[0m\u001b[1;33m(\u001b[0m\u001b[1;34m'%m-%d-%Y %H:%M'\u001b[0m\u001b[1;33m)\u001b[0m\u001b[1;33m\u001b[0m\u001b[1;33m\u001b[0m\u001b[0m\n\u001b[0m\u001b[0;32m      3\u001b[0m \u001b[0mdfr\u001b[0m\u001b[1;33m.\u001b[0m\u001b[0mhead\u001b[0m\u001b[1;33m(\u001b[0m\u001b[1;33m)\u001b[0m\u001b[1;33m\u001b[0m\u001b[1;33m\u001b[0m\u001b[0m\n",
      "\u001b[1;32mC:\\Anaconda3\\envs\\PythonData\\lib\\site-packages\\pandas\\core\\generic.py\u001b[0m in \u001b[0;36m__getattr__\u001b[1;34m(self, name)\u001b[0m\n\u001b[0;32m   4370\u001b[0m         if (name in self._internal_names_set or name in self._metadata or\n\u001b[0;32m   4371\u001b[0m                 name in self._accessors):\n\u001b[1;32m-> 4372\u001b[1;33m             \u001b[1;32mreturn\u001b[0m \u001b[0mobject\u001b[0m\u001b[1;33m.\u001b[0m\u001b[0m__getattribute__\u001b[0m\u001b[1;33m(\u001b[0m\u001b[0mself\u001b[0m\u001b[1;33m,\u001b[0m \u001b[0mname\u001b[0m\u001b[1;33m)\u001b[0m\u001b[1;33m\u001b[0m\u001b[1;33m\u001b[0m\u001b[0m\n\u001b[0m\u001b[0;32m   4373\u001b[0m         \u001b[1;32melse\u001b[0m\u001b[1;33m:\u001b[0m\u001b[1;33m\u001b[0m\u001b[1;33m\u001b[0m\u001b[0m\n\u001b[0;32m   4374\u001b[0m             \u001b[1;32mif\u001b[0m \u001b[0mself\u001b[0m\u001b[1;33m.\u001b[0m\u001b[0m_info_axis\u001b[0m\u001b[1;33m.\u001b[0m\u001b[0m_can_hold_identifiers_and_holds_name\u001b[0m\u001b[1;33m(\u001b[0m\u001b[0mname\u001b[0m\u001b[1;33m)\u001b[0m\u001b[1;33m:\u001b[0m\u001b[1;33m\u001b[0m\u001b[1;33m\u001b[0m\u001b[0m\n",
      "\u001b[1;32mC:\\Anaconda3\\envs\\PythonData\\lib\\site-packages\\pandas\\core\\accessor.py\u001b[0m in \u001b[0;36m__get__\u001b[1;34m(self, obj, cls)\u001b[0m\n\u001b[0;32m    131\u001b[0m             \u001b[1;31m# we're accessing the attribute of the class, i.e., Dataset.geo\u001b[0m\u001b[1;33m\u001b[0m\u001b[1;33m\u001b[0m\u001b[1;33m\u001b[0m\u001b[0m\n\u001b[0;32m    132\u001b[0m             \u001b[1;32mreturn\u001b[0m \u001b[0mself\u001b[0m\u001b[1;33m.\u001b[0m\u001b[0m_accessor\u001b[0m\u001b[1;33m\u001b[0m\u001b[1;33m\u001b[0m\u001b[0m\n\u001b[1;32m--> 133\u001b[1;33m         \u001b[0maccessor_obj\u001b[0m \u001b[1;33m=\u001b[0m \u001b[0mself\u001b[0m\u001b[1;33m.\u001b[0m\u001b[0m_accessor\u001b[0m\u001b[1;33m(\u001b[0m\u001b[0mobj\u001b[0m\u001b[1;33m)\u001b[0m\u001b[1;33m\u001b[0m\u001b[1;33m\u001b[0m\u001b[0m\n\u001b[0m\u001b[0;32m    134\u001b[0m         \u001b[1;31m# Replace the property with the accessor object. Inspired by:\u001b[0m\u001b[1;33m\u001b[0m\u001b[1;33m\u001b[0m\u001b[1;33m\u001b[0m\u001b[0m\n\u001b[0;32m    135\u001b[0m         \u001b[1;31m# http://www.pydanny.com/cached-property.html\u001b[0m\u001b[1;33m\u001b[0m\u001b[1;33m\u001b[0m\u001b[1;33m\u001b[0m\u001b[0m\n",
      "\u001b[1;32mC:\\Anaconda3\\envs\\PythonData\\lib\\site-packages\\pandas\\core\\indexes\\accessors.py\u001b[0m in \u001b[0;36m__new__\u001b[1;34m(cls, data)\u001b[0m\n\u001b[0;32m    323\u001b[0m             \u001b[1;32mpass\u001b[0m  \u001b[1;31m# we raise an attribute error anyway\u001b[0m\u001b[1;33m\u001b[0m\u001b[1;33m\u001b[0m\u001b[0m\n\u001b[0;32m    324\u001b[0m \u001b[1;33m\u001b[0m\u001b[0m\n\u001b[1;32m--> 325\u001b[1;33m         raise AttributeError(\"Can only use .dt accessor with datetimelike \"\n\u001b[0m\u001b[0;32m    326\u001b[0m                              \"values\")\n",
      "\u001b[1;31mAttributeError\u001b[0m: Can only use .dt accessor with datetimelike values"
     ]
    }
   ],
   "source": [
    "# Convert back to string for Json \n",
    "dfr['TIME_STAMP'] = dfr['TIME_STAMP'].dt.strftime('%m-%d-%Y %H:%M')\n",
    "dfr.head()"
   ]
  },
  {
   "cell_type": "code",
   "execution_count": 3,
   "metadata": {},
   "outputs": [],
   "source": [
    "df_json_ready = dfr.to_json(orient='records')"
   ]
  },
  {
   "cell_type": "code",
   "execution_count": 4,
   "metadata": {},
   "outputs": [
    {
     "data": {
      "text/plain": [
       "'[{\"TIME_STAMP\":\"2019-4-11 03:00\",\"TEMPERATURE\":70,\"F_Temp\":65.45,\"A_Temp\":65.81},{\"TIME_STAMP\":\"2019-4-11 04:00\",\"TEMPERATURE\":68,\"F_Temp\":62.79,\"A_Temp\":64.1},{\"TIME_STAMP\":\"2019-4-11 05:00\",\"TEMPERATURE\":67,\"F_Temp\":60.54,\"A_Temp\":63.04},{\"TIME_STAMP\":\"2019-4-11 06:00\",\"TEMPERATURE\":67,\"F_Temp\":60.48,\"A_Temp\":62.8},{\"TIME_STAMP\":\"2019-4-11 07:00\",\"TEMPERATURE\":67,\"F_Temp\":60.08,\"A_Temp\":62.19},{\"TIME_STAMP\":\"2019-4-11 08:00\",\"TEMPERATURE\":67,\"F_Temp\":60.08,\"A_Temp\":61.62},{\"TIME_STAMP\":\"2019-4-11 09:00\",\"TEMPERATURE\":67,\"F_Temp\":60.88,\"A_Temp\":60.08},{\"TIME_STAMP\":\"2019-4-11 10:00\",\"TEMPERATURE\":69,\"F_Temp\":60.65,\"A_Temp\":58.9},{\"TIME_STAMP\":\"2019-4-11 11:00\",\"TEMPERATURE\":70,\"F_Temp\":60.1,\"A_Temp\":57.95},{\"TIME_STAMP\":\"2019-4-11 12:00\",\"TEMPERATURE\":72,\"F_Temp\":60.14,\"A_Temp\":58.52},{\"TIME_STAMP\":\"2019-4-11 13:00\",\"TEMPERATURE\":74,\"F_Temp\":63.5,\"A_Temp\":61.8},{\"TIME_STAMP\":\"2019-4-11 14:00\",\"TEMPERATURE\":75,\"F_Temp\":67.9,\"A_Temp\":65.99},{\"TIME_STAMP\":\"2019-4-11 15:00\",\"TEMPERATURE\":77,\"F_Temp\":71.61,\"A_Temp\":69.61},{\"TIME_STAMP\":\"2019-4-11 16:00\",\"TEMPERATURE\":79,\"F_Temp\":74.56,\"A_Temp\":72.66},{\"TIME_STAMP\":\"2019-4-11 17:00\",\"TEMPERATURE\":80,\"F_Temp\":77.36,\"A_Temp\":74.81},{\"TIME_STAMP\":\"2019-4-11 18:00\",\"TEMPERATURE\":80,\"F_Temp\":79.4,\"A_Temp\":77.28},{\"TIME_STAMP\":\"2019-4-11 19:00\",\"TEMPERATURE\":81,\"F_Temp\":80.87,\"A_Temp\":78.98},{\"TIME_STAMP\":\"2019-4-11 20:00\",\"TEMPERATURE\":81,\"F_Temp\":81.14,\"A_Temp\":80.4},{\"TIME_STAMP\":\"2019-4-11 21:00\",\"TEMPERATURE\":81,\"F_Temp\":81.6,\"A_Temp\":80.4},{\"TIME_STAMP\":\"2019-4-11 22:00\",\"TEMPERATURE\":80,\"F_Temp\":81.11,\"A_Temp\":79.63},{\"TIME_STAMP\":\"2019-4-11 23:00\",\"TEMPERATURE\":79,\"F_Temp\":79.93,\"A_Temp\":76.92},{\"TIME_STAMP\":\"2019-4-12 00:00\",\"TEMPERATURE\":78,\"F_Temp\":78.1,\"A_Temp\":74.43},{\"TIME_STAMP\":\"2019-4-12 01:00\",\"TEMPERATURE\":78,\"F_Temp\":75.28,\"A_Temp\":72.41},{\"TIME_STAMP\":\"2019-4-12 02:00\",\"TEMPERATURE\":76,\"F_Temp\":73.35,\"A_Temp\":71.22},{\"TIME_STAMP\":\"2019-4-12 03:00\",\"TEMPERATURE\":76,\"F_Temp\":72.19,\"A_Temp\":72.7},{\"TIME_STAMP\":\"2019-4-12 04:00\",\"TEMPERATURE\":75,\"F_Temp\":71.15,\"A_Temp\":70.61},{\"TIME_STAMP\":\"2019-4-12 05:00\",\"TEMPERATURE\":75,\"F_Temp\":70.2,\"A_Temp\":68.47},{\"TIME_STAMP\":\"2019-4-12 06:00\",\"TEMPERATURE\":74,\"F_Temp\":68.88,\"A_Temp\":66.95},{\"TIME_STAMP\":\"2019-4-12 07:00\",\"TEMPERATURE\":74,\"F_Temp\":68.71,\"A_Temp\":66.43},{\"TIME_STAMP\":\"2019-4-12 08:00\",\"TEMPERATURE\":73,\"F_Temp\":68.36,\"A_Temp\":65.94},{\"TIME_STAMP\":\"2019-4-12 09:00\",\"TEMPERATURE\":73,\"F_Temp\":69.38,\"A_Temp\":65.3},{\"TIME_STAMP\":\"2019-4-12 10:00\",\"TEMPERATURE\":73,\"F_Temp\":68.89,\"A_Temp\":64.83},{\"TIME_STAMP\":\"2019-4-12 11:00\",\"TEMPERATURE\":73,\"F_Temp\":68.39,\"A_Temp\":64.58},{\"TIME_STAMP\":\"2019-4-12 12:00\",\"TEMPERATURE\":74,\"F_Temp\":67.34,\"A_Temp\":64.95},{\"TIME_STAMP\":\"2019-4-12 13:00\",\"TEMPERATURE\":75,\"F_Temp\":67.53,\"A_Temp\":65.78},{\"TIME_STAMP\":\"2019-4-12 14:00\",\"TEMPERATURE\":76,\"F_Temp\":68.85,\"A_Temp\":67.36},{\"TIME_STAMP\":\"2019-4-12 15:00\",\"TEMPERATURE\":77,\"F_Temp\":70.53,\"A_Temp\":69.44},{\"TIME_STAMP\":\"2019-4-12 16:00\",\"TEMPERATURE\":78,\"F_Temp\":72.59,\"A_Temp\":71.61},{\"TIME_STAMP\":\"2019-4-12 17:00\",\"TEMPERATURE\":79,\"F_Temp\":75.01,\"A_Temp\":74.13},{\"TIME_STAMP\":\"2019-4-12 18:00\",\"TEMPERATURE\":79,\"F_Temp\":76.9,\"A_Temp\":76.02},{\"TIME_STAMP\":\"2019-4-12 19:00\",\"TEMPERATURE\":79,\"F_Temp\":78.23,\"A_Temp\":77.47},{\"TIME_STAMP\":\"2019-4-12 20:00\",\"TEMPERATURE\":79,\"F_Temp\":78.68,\"A_Temp\":78.78},{\"TIME_STAMP\":\"2019-4-12 21:00\",\"TEMPERATURE\":78,\"F_Temp\":78.31,\"A_Temp\":79.68},{\"TIME_STAMP\":\"2019-4-12 22:00\",\"TEMPERATURE\":76,\"F_Temp\":77.74,\"A_Temp\":79.63},{\"TIME_STAMP\":\"2019-4-12 23:00\",\"TEMPERATURE\":75,\"F_Temp\":76.72,\"A_Temp\":78.22},{\"TIME_STAMP\":\"2019-4-13 00:00\",\"TEMPERATURE\":74,\"F_Temp\":74.03,\"A_Temp\":75.55},{\"TIME_STAMP\":\"2019-4-13 01:00\",\"TEMPERATURE\":72,\"F_Temp\":68.99,\"A_Temp\":72.89},{\"TIME_STAMP\":\"2019-4-13 02:00\",\"TEMPERATURE\":71,\"F_Temp\":66.35,\"A_Temp\":70.3},{\"TIME_STAMP\":\"2019-4-13 03:00\",\"TEMPERATURE\":70,\"F_Temp\":64.53,\"A_Temp\":68.62},{\"TIME_STAMP\":\"2019-4-13 04:00\",\"TEMPERATURE\":69,\"F_Temp\":62.93,\"A_Temp\":66.7},{\"TIME_STAMP\":\"2019-4-13 05:00\",\"TEMPERATURE\":68,\"F_Temp\":61.78,\"A_Temp\":65.97},{\"TIME_STAMP\":\"2019-4-13 06:00\",\"TEMPERATURE\":68,\"F_Temp\":60.87,\"A_Temp\":65.49},{\"TIME_STAMP\":\"2019-4-13 07:00\",\"TEMPERATURE\":67,\"F_Temp\":59.57,\"A_Temp\":64.26},{\"TIME_STAMP\":\"2019-4-13 08:00\",\"TEMPERATURE\":67,\"F_Temp\":58.91,\"A_Temp\":63.5},{\"TIME_STAMP\":\"2019-4-13 09:00\",\"TEMPERATURE\":67,\"F_Temp\":58.42,\"A_Temp\":62.53},{\"TIME_STAMP\":\"2019-4-13 10:00\",\"TEMPERATURE\":68,\"F_Temp\":59.43,\"A_Temp\":61.81},{\"TIME_STAMP\":\"2019-4-13 11:00\",\"TEMPERATURE\":69,\"F_Temp\":59.81,\"A_Temp\":61.31},{\"TIME_STAMP\":\"2019-4-13 12:00\",\"TEMPERATURE\":71,\"F_Temp\":61.07,\"A_Temp\":61.63},{\"TIME_STAMP\":\"2019-4-13 13:00\",\"TEMPERATURE\":72,\"F_Temp\":64.25,\"A_Temp\":63.64},{\"TIME_STAMP\":\"2019-4-13 14:00\",\"TEMPERATURE\":74,\"F_Temp\":67.17,\"A_Temp\":66.79},{\"TIME_STAMP\":\"2019-4-13 15:00\",\"TEMPERATURE\":75,\"F_Temp\":69.47,\"A_Temp\":70.1},{\"TIME_STAMP\":\"2019-4-13 16:00\",\"TEMPERATURE\":77,\"F_Temp\":71.64,\"A_Temp\":73.22},{\"TIME_STAMP\":\"2019-4-13 17:00\",\"TEMPERATURE\":78,\"F_Temp\":73.5,\"A_Temp\":75.82},{\"TIME_STAMP\":\"2019-4-13 18:00\",\"TEMPERATURE\":80,\"F_Temp\":75.66,\"A_Temp\":78.38},{\"TIME_STAMP\":\"2019-4-13 19:00\",\"TEMPERATURE\":80,\"F_Temp\":77.99,\"A_Temp\":80.03},{\"TIME_STAMP\":\"2019-4-13 20:00\",\"TEMPERATURE\":80,\"F_Temp\":79.12,\"A_Temp\":81.32},{\"TIME_STAMP\":\"2019-4-13 21:00\",\"TEMPERATURE\":80,\"F_Temp\":81.13,\"A_Temp\":81.66},{\"TIME_STAMP\":\"2019-4-13 22:00\",\"TEMPERATURE\":80,\"F_Temp\":81.78,\"A_Temp\":81.45},{\"TIME_STAMP\":\"2019-4-13 23:00\",\"TEMPERATURE\":79,\"F_Temp\":81.17,\"A_Temp\":79.55},{\"TIME_STAMP\":\"2019-4-14 00:00\",\"TEMPERATURE\":79,\"F_Temp\":78.72,\"A_Temp\":77.31},{\"TIME_STAMP\":\"2019-4-14 01:00\",\"TEMPERATURE\":78,\"F_Temp\":75.91,\"A_Temp\":75.65},{\"TIME_STAMP\":\"2019-4-14 02:00\",\"TEMPERATURE\":78,\"F_Temp\":74.66,\"A_Temp\":74.12},{\"TIME_STAMP\":\"2019-4-14 03:00\",\"TEMPERATURE\":78,\"F_Temp\":73.55,\"A_Temp\":73.08},{\"TIME_STAMP\":\"2019-4-14 04:00\",\"TEMPERATURE\":77,\"F_Temp\":54.3,\"A_Temp\":53.83},{\"TIME_STAMP\":\"2019-4-14 05:00\",\"TEMPERATURE\":77,\"F_Temp\":52.77,\"A_Temp\":51.42},{\"TIME_STAMP\":\"2019-4-14 06:00\",\"TEMPERATURE\":76,\"F_Temp\":51.79,\"A_Temp\":49.66},{\"TIME_STAMP\":\"2019-4-14 07:00\",\"TEMPERATURE\":76,\"F_Temp\":50.91,\"A_Temp\":48.26},{\"TIME_STAMP\":\"2019-4-14 08:00\",\"TEMPERATURE\":75,\"F_Temp\":49.76,\"A_Temp\":47.15},{\"TIME_STAMP\":\"2019-4-14 09:00\",\"TEMPERATURE\":75,\"F_Temp\":48.55,\"A_Temp\":45.79},{\"TIME_STAMP\":\"2019-4-14 10:00\",\"TEMPERATURE\":75,\"F_Temp\":46.8,\"A_Temp\":44.41},{\"TIME_STAMP\":\"2019-4-14 11:00\",\"TEMPERATURE\":74,\"F_Temp\":45.46,\"A_Temp\":43.14},{\"TIME_STAMP\":\"2019-4-14 12:00\",\"TEMPERATURE\":74,\"F_Temp\":45.41,\"A_Temp\":42.95},{\"TIME_STAMP\":\"2019-4-14 13:00\",\"TEMPERATURE\":73,\"F_Temp\":46.89,\"A_Temp\":44.78},{\"TIME_STAMP\":\"2019-4-14 14:00\",\"TEMPERATURE\":74,\"F_Temp\":49.02,\"A_Temp\":48.0},{\"TIME_STAMP\":\"2019-4-14 15:00\",\"TEMPERATURE\":75,\"F_Temp\":52.39,\"A_Temp\":51.1},{\"TIME_STAMP\":\"2019-4-14 16:00\",\"TEMPERATURE\":76,\"F_Temp\":54.96,\"A_Temp\":54.26},{\"TIME_STAMP\":\"2019-4-14 17:00\",\"TEMPERATURE\":77,\"F_Temp\":57.04,\"A_Temp\":57.49},{\"TIME_STAMP\":\"2019-4-14 18:00\",\"TEMPERATURE\":78,\"F_Temp\":59.83,\"A_Temp\":60.24},{\"TIME_STAMP\":\"2019-4-14 19:00\",\"TEMPERATURE\":78,\"F_Temp\":62.34,\"A_Temp\":63.24},{\"TIME_STAMP\":\"2019-4-14 20:00\",\"TEMPERATURE\":76,\"F_Temp\":63.79,\"A_Temp\":65.67},{\"TIME_STAMP\":\"2019-4-14 21:00\",\"TEMPERATURE\":74,\"F_Temp\":65.11,\"A_Temp\":67.34},{\"TIME_STAMP\":\"2019-4-14 22:00\",\"TEMPERATURE\":72,\"F_Temp\":65.57,\"A_Temp\":67.1},{\"TIME_STAMP\":\"2019-4-14 23:00\",\"TEMPERATURE\":70,\"F_Temp\":64.69,\"A_Temp\":65.35},{\"TIME_STAMP\":\"2019-4-15 00:00\",\"TEMPERATURE\":67,\"F_Temp\":62.32,\"A_Temp\":62.62},{\"TIME_STAMP\":\"2019-4-15 01:00\",\"TEMPERATURE\":65,\"F_Temp\":57.75,\"A_Temp\":59.87},{\"TIME_STAMP\":\"2019-4-15 02:00\",\"TEMPERATURE\":63,\"F_Temp\":54.61,\"A_Temp\":56.59},{\"TIME_STAMP\":\"2019-4-15 03:00\",\"TEMPERATURE\":62,\"F_Temp\":52.12,\"A_Temp\":54.57},{\"TIME_STAMP\":\"2019-4-15 04:00\",\"TEMPERATURE\":60,\"F_Temp\":48.94,\"A_Temp\":52.46},{\"TIME_STAMP\":\"2019-4-15 05:00\",\"TEMPERATURE\":58,\"F_Temp\":46.98,\"A_Temp\":50.93},{\"TIME_STAMP\":\"2019-4-15 06:00\",\"TEMPERATURE\":57,\"F_Temp\":45.3,\"A_Temp\":49.76},{\"TIME_STAMP\":\"2019-4-15 07:00\",\"TEMPERATURE\":55,\"F_Temp\":44.1,\"A_Temp\":48.62},{\"TIME_STAMP\":\"2019-4-15 08:00\",\"TEMPERATURE\":54,\"F_Temp\":42.97,\"A_Temp\":47.68},{\"TIME_STAMP\":\"2019-4-15 09:00\",\"TEMPERATURE\":54,\"F_Temp\":43.05,\"A_Temp\":46.5},{\"TIME_STAMP\":\"2019-4-15 10:00\",\"TEMPERATURE\":54,\"F_Temp\":42.68,\"A_Temp\":45.17},{\"TIME_STAMP\":\"2019-4-15 11:00\",\"TEMPERATURE\":55,\"F_Temp\":42.12,\"A_Temp\":43.8},{\"TIME_STAMP\":\"2019-4-15 12:00\",\"TEMPERATURE\":56,\"F_Temp\":44.41,\"A_Temp\":44.9},{\"TIME_STAMP\":\"2019-4-15 13:00\",\"TEMPERATURE\":57,\"F_Temp\":52.46,\"A_Temp\":49.44},{\"TIME_STAMP\":\"2019-4-15 14:00\",\"TEMPERATURE\":58,\"F_Temp\":57.4,\"A_Temp\":56.02},{\"TIME_STAMP\":\"2019-4-15 15:00\",\"TEMPERATURE\":60,\"F_Temp\":61.23,\"A_Temp\":62.07},{\"TIME_STAMP\":\"2019-4-15 16:00\",\"TEMPERATURE\":62,\"F_Temp\":64.64,\"A_Temp\":65.87},{\"TIME_STAMP\":\"2019-4-15 17:00\",\"TEMPERATURE\":64,\"F_Temp\":67.29,\"A_Temp\":69.27},{\"TIME_STAMP\":\"2019-4-15 18:00\",\"TEMPERATURE\":65,\"F_Temp\":69.93,\"A_Temp\":71.98},{\"TIME_STAMP\":\"2019-4-15 19:00\",\"TEMPERATURE\":66,\"F_Temp\":72.4,\"A_Temp\":74.89},{\"TIME_STAMP\":\"2019-4-15 20:00\",\"TEMPERATURE\":66,\"F_Temp\":74.36,\"A_Temp\":76.92},{\"TIME_STAMP\":\"2019-4-15 21:00\",\"TEMPERATURE\":66,\"F_Temp\":75.76,\"A_Temp\":78.08},{\"TIME_STAMP\":\"2019-4-15 22:00\",\"TEMPERATURE\":64,\"F_Temp\":74.94,\"A_Temp\":77.51},{\"TIME_STAMP\":\"2019-4-15 23:00\",\"TEMPERATURE\":63,\"F_Temp\":75.2,\"A_Temp\":75.52}]'"
      ]
     },
     "execution_count": 4,
     "metadata": {},
     "output_type": "execute_result"
    }
   ],
   "source": [
    "df_json_ready"
   ]
  },
  {
   "cell_type": "code",
   "execution_count": 21,
   "metadata": {},
   "outputs": [],
   "source": [
    "df.to_json(r'Rambo.json')"
   ]
  },
  {
   "cell_type": "code",
   "execution_count": null,
   "metadata": {},
   "outputs": [],
   "source": []
  },
  {
   "cell_type": "code",
   "execution_count": null,
   "metadata": {},
   "outputs": [],
   "source": []
  },
  {
   "cell_type": "code",
   "execution_count": null,
   "metadata": {},
   "outputs": [],
   "source": []
  },
  {
   "cell_type": "code",
   "execution_count": null,
   "metadata": {},
   "outputs": [],
   "source": []
  }
 ],
 "metadata": {
  "kernelspec": {
   "display_name": "Python 3",
   "language": "python",
   "name": "python3"
  },
  "language_info": {
   "codemirror_mode": {
    "name": "ipython",
    "version": 3
   },
   "file_extension": ".py",
   "mimetype": "text/x-python",
   "name": "python",
   "nbconvert_exporter": "python",
   "pygments_lexer": "ipython3",
   "version": "3.7.1"
  }
 },
 "nbformat": 4,
 "nbformat_minor": 2
}
